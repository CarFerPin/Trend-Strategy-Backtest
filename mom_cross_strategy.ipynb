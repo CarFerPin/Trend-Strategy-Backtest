{
 "cells": [
  {
   "cell_type": "markdown",
   "id": "59ed96eb",
   "metadata": {},
   "source": [
    "## **Trend Following Strategy Backtest**\n",
    "\n",
    "This notebook conducts a backtest of a trend-following strategy using historical market data. The objective is to evaluate the strategy’s performance across different volatility environments and time frames, offering insight into its robustness and adaptability under varying market conditions.\n"
   ]
  },
  {
   "cell_type": "markdown",
   "id": "e5b7c896",
   "metadata": {},
   "source": [
    "## Imports:\n",
    "\n",
    "| Library      | Purpose                              |\n",
    "|--------------|--------------------------------------|\n",
    "| Backtrader   | Used as the backtesting engine       |\n",
    "| Yfinance     | Handles historical data retrieval    |\n",
    "| Matplotlib   | Used for plotting results            |\n",
    "| Pandas       | For general data handling            |\n",
    "\n",
    "\n"
   ]
  },
  {
   "cell_type": "code",
   "execution_count": 76,
   "id": "225852e8",
   "metadata": {},
   "outputs": [],
   "source": [
    "import matplotlib\n",
    "import matplotlib.pyplot as plt\n",
    "matplotlib.use('TkAgg')\n",
    "%matplotlib inline\n",
    "\n",
    "import backtrader as bt\n",
    "import yfinance as yf\n",
    "import pandas as pd\n",
    "import seaborn as sns\n",
    "import numpy as np"
   ]
  },
  {
   "cell_type": "markdown",
   "id": "449380b5",
   "metadata": {},
   "source": [
    "### Strategy Class Definition\n",
    "\n",
    "We create a custom strategy class, `VMomentumStrategy`, that implements a trend-following logic based on momentum and a simple moving average (SMA). The strategy goes long when short-term momentum is stronger than long-term momentum and the price is above the SMA. \n",
    "\n",
    "It also includes take profit and stop loss rules, and tracks key performance metrics such as total trades, win rate, expectancy, and average PnL per trade.\n"
   ]
  },
  {
   "cell_type": "code",
   "execution_count": 77,
   "id": "6e0a71fe",
   "metadata": {},
   "outputs": [],
   "source": [
    "# Strategy class\n",
    "class VMomentumStrategy(bt.Strategy):\n",
    "    params = (\n",
    "        ('mom_short_period', None),   # period for short momentum calculation\n",
    "        ('mom_long_period', None),   # period for long momentum calculation\n",
    "        ('sma_period', None),        # SMA period for trend confirmation\n",
    "        ('tp_perc', None),         # take profit in %\n",
    "        ('sl_perc', None),          # stop loss in %\n",
    "    )\n",
    "\n",
    "    def __init__(self):\n",
    "        # Indicators\n",
    "        self.short_mom = bt.ind.Momentum(period=self.p.mom_short_period)\n",
    "        self.long_mom = bt.ind.Momentum(period=self.p.mom_long_period)\n",
    "        self.sma = bt.ind.SMA(period=self.p.sma_period)\n",
    "\n",
    "        self.order = None  # To track ongoing orders\n",
    "        self.entry_price = None\n",
    "    \n",
    "        # Metrics\n",
    "        self.total_trades = 0\n",
    "        self.wins = 0\n",
    "        self.losses = 0\n",
    "        self.pnl_wins = []\n",
    "        self.pnl_losses = []\n",
    "\n",
    "    def next(self):\n",
    "        if self.order:\n",
    "            return\n",
    "\n",
    "        if not self.position:\n",
    "            if self.short_mom > self.long_mom and self.data.close[0] > self.sma[0]:\n",
    "                size = int((self.broker.get_cash()*0.95) // self.data.close[0])\n",
    "\n",
    "                if size >0:\n",
    "                    self.order = self.buy(size= size)\n",
    "                    self.entry_price = self.data.close[0]\n",
    "        \n",
    "        if self.position:\n",
    "            if self.short_mom < self.long_mom or self.data.close[0] < self.sma[0]:\n",
    "                self.order = self.sell(size= self.position.size)\n",
    "            else:\n",
    "                gain = (self.data.close[0] - self.entry_price) / self.entry_price * 100\n",
    "                if gain >= self.p.tp_perc or gain <= -self.p.sl_perc:\n",
    "                    self.sell(size= self.position.size)\n",
    "\n",
    "    def notify_order(self, order):\n",
    "        if order.status in [order.Completed, order.Canceled, order.Rejected]:\n",
    "            self.order = None\n",
    "\n",
    "    def notify_trade(self, trade):\n",
    "        if trade.isclosed:\n",
    "            pnl = trade.pnlcomm\n",
    "            self.total_trades += 1\n",
    "\n",
    "            if pnl > 0:\n",
    "                self.wins += 1\n",
    "                self.pnl_wins.append(pnl)\n",
    "            else:\n",
    "                self.losses += 1\n",
    "                self.pnl_losses.append(abs(pnl))  # use abs for expectancy calc\n",
    "\n",
    "    def stop(self):\n",
    "        self.start_value = self.broker.startingcash\n",
    "        self.end_value = self.broker.getvalue()\n",
    "        self.pct_return = ((self.end_value - self.start_value) / self.start_value) * 100\n",
    "\n",
    "        self.win_rate = (self.wins / self.total_trades) * 100 if self.total_trades else 0\n",
    "        self.avg_win = sum(self.pnl_wins) / len(self.pnl_wins) if self.pnl_wins else 0\n",
    "        self.avg_loss = sum(self.pnl_losses) / len(self.pnl_losses) if self.pnl_losses else 0\n",
    "        self.loss_rate = 1 - (self.wins / self.total_trades) if self.total_trades else 0\n",
    "        self.expectancy = (self.win_rate / 100) * self.avg_win - self.loss_rate * self.avg_loss\n",
    "\n",
    "        print(\"\\n=== Portfolio Value ===\")\n",
    "        print(f'Starting Portfolio Value: {self.start_value}')\n",
    "        print(f'Final Portfolio Value   : {self.end_value}')\n",
    "        print(\"\\n=== Strategy Performance ===\")\n",
    "        print(f\"Return %         : {self.pct_return:.2f}%\")\n",
    "        print(f\"Total Trades     : {self.total_trades}\")\n",
    "        print(f\"Win Rate         : {self.win_rate:.2f}%\")\n",
    "        print(f\"Expectancy       : {self.expectancy:.2f}\")\n",
    "        print(f\"Avg Win          : {self.avg_win:.2f}\")\n",
    "        print(f\"Avg Loss         : {self.avg_loss:.2f}\")"
   ]
  },
  {
   "cell_type": "markdown",
   "id": "edba2609",
   "metadata": {},
   "source": [
    "## Backtest Function\n",
    "\n",
    "We define a function `run_backtest` that fetches historical data using the yfinance library, prepares it for the Backtrader engine, and executes a backtest using the `VMomentumStrategy` class.\n",
    "\n",
    "\n",
    "📥 Parameters:\n",
    "\n",
    "- symbol (str): Stock ticker (e.g., 'TSLA').\n",
    "\n",
    "- interval (str): Data interval (e.g., '1h', '1d'). Default is '1h'.\n",
    "\n",
    "- period (str): Length of historical data (e.g., '6mo', '1y'). Default is '6mo'.\n",
    "\n",
    "📤 **Returns**:\n",
    "\n",
    "- Prints backtest resuts including strategy performance and risk metrics.\n"
   ]
  },
  {
   "cell_type": "code",
   "execution_count": 78,
   "id": "eb07698e",
   "metadata": {},
   "outputs": [],
   "source": [
    "# BackTest Function\n",
    "def run_backtest(symbol: str, interval: str = '1h', period: str = '6mo', strategy_params: dict = None, plot: bool = True):\n",
    "    # Download data using yfinance with period and interval\n",
    "    data = yf.download(tickers=symbol, interval=interval, period=period)\n",
    "\n",
    "    # Check if data was retrieved\n",
    "    if data.empty:\n",
    "        print(\"No data retrieved. Please check the parameters.\")\n",
    "        return\n",
    "\n",
    "    # Clean and rename DataFrame to match Backtrader's expectations\n",
    "    data = data[['Open', 'High', 'Low', 'Close', 'Volume']]\n",
    "    data.columns = ['open', 'high', 'low', 'close', 'volume']\n",
    "    data.index.name = 'datetime'  # Backtrader expects datetime index\n",
    "    print(f'Data Count: {len(data)}')\n",
    "    print(f' \\n*********  STARTING BACKTEST FOR {symbol}  *********')\n",
    "\n",
    "    # Create a backtest Cerebro\n",
    "    cerebro = bt.Cerebro()\n",
    "\n",
    "    # Add strategy with parameters if provided\n",
    "    if strategy_params is None:\n",
    "        strategy_params = {}\n",
    "    cerebro.addstrategy(VMomentumStrategy, **strategy_params)\n",
    "\n",
    "    cerebro.broker.setcash(100000)\n",
    "    cerebro.addanalyzer(bt.analyzers.SharpeRatio, _name='sharpe')\n",
    "    cerebro.addanalyzer(bt.analyzers.DrawDown, _name='drawdown')\n",
    "\n",
    "    # Add data feed\n",
    "    bt_data = bt.feeds.PandasData(dataname=data)\n",
    "    cerebro.adddata(bt_data)\n",
    "\n",
    "    # Run backtest and get results\n",
    "    results = cerebro.run()\n",
    "    strat = results[0]\n",
    "    sharpe_ratio = strat.analyzers.sharpe.get_analysis()['sharperatio']\n",
    "    drawdown = strat.analyzers.drawdown.get_analysis()['max']['drawdown']\n",
    "    print(\"\\n=== Risk Metrics ===\")\n",
    "    print('Sharpe Ratio:', strat.analyzers.sharpe.get_analysis()['sharperatio'])\n",
    "    print('Max Drawdown:', strat.analyzers.drawdown.get_analysis()['max']['drawdown'])\n",
    "\n",
    "    if plot:\n",
    "        cerebro.plot(style='candlestick', iplot=False)\n",
    "    \n",
    "    return {\n",
    "        'Symbol': symbol,\n",
    "        'Return %': strat.pct_return,\n",
    "        'Total Trades': strat.total_trades,\n",
    "        'Win Rate': strat.win_rate,\n",
    "        'Expectancy': strat.expectancy,\n",
    "        'Avg Win': strat.avg_win,\n",
    "        'Avg Loss': strat.avg_loss,\n",
    "        'sharpe ratio': sharpe_ratio,\n",
    "        'drawdown': drawdown,\n",
    "    }\n"
   ]
  },
  {
   "cell_type": "markdown",
   "id": "2c83e361",
   "metadata": {},
   "source": [
    "## Volatility Check Function\n",
    "\n",
    "We create a function `check_volatility` to evaluate how volatile the returns of a stock has been over a given historical period. It computes the percentage change in closing prices, and calculates the standard deviation of these returns — which serves as a proxy for volatility.\n",
    "\n",
    "📥 **Parameters**:\n",
    "\n",
    "- symbol (str): Stock ticker symbol (e.g., 'TSLA').\n",
    "- interval (str): Time interval for data points (e.g., '1d', '1h'). Default is '1d'.\n",
    "- period (str): Time span for historical data (e.g., '6mo', '1y'). Default is '6mo'.\n",
    "\n",
    "📤 **Returns**:\n",
    "\n",
    "- Prints and returns the standard deviation of daily (or chosen interval) returns — a basic measure of volatility.\n",
    "\n"
   ]
  },
  {
   "cell_type": "code",
   "execution_count": 79,
   "id": "9464324d",
   "metadata": {},
   "outputs": [],
   "source": [
    "# Volatility Check\n",
    "def check_volatility(symbol: list, interval: str = '1h', period: str = '6mo'):\n",
    "    \"\"\"\n",
    "    Fetches historical data for multiple tickers in one call,\n",
    "    calculates volatility (std dev of daily returns) for each ticker,\n",
    "    and returns a DataFrame with volatility per symbol.\n",
    "    \"\"\"\n",
    "    # Download Close prices for all symbols in one call\n",
    "    data = yf.download(tickers=symbols, interval=interval, period=period)['Close']\n",
    "\n",
    "    # Calculate daily returns for each ticker\n",
    "    returns = data.pct_change().dropna()\n",
    "\n",
    "    # Calculate volatility (std dev of returns) per ticker\n",
    "    volatility = returns.std()\n",
    "\n",
    "    return volatility.to_frame(name='volatility')\n",
    "\n"
   ]
  },
  {
   "cell_type": "markdown",
   "id": "94bd6c13",
   "metadata": {},
   "source": [
    "## Defining a List of Stocks for Backtest\n",
    "\n",
    "We construct a diverse list of stocks and ETFs spanning various sectors, market caps, and volatility profiles. The selection includes stable large-cap names, high-growth tech stocks, defensive consumer staples, and broad market ETFs. The objective is to evaluate strategy performance under different market conditions and volatility regimes. \n"
   ]
  },
  {
   "cell_type": "code",
   "execution_count": 80,
   "id": "5487e5bd",
   "metadata": {},
   "outputs": [],
   "source": [
    "symbols = [\n",
    "    # Tech & Large Cap (Mix of Volatility)\n",
    "    'AAPL',    # Apple Inc. - Technology, large cap, moderate volatility\n",
    "    'TSLA',    # Tesla Inc. - Automotive/Tech, high volatility growth\n",
    "    'MSFT',    # Microsoft Corp. - Technology, stable large cap\n",
    "    'AMZN',    # Amazon.com Inc. - E-commerce/Cloud, growth, moderate-high volatility\n",
    "    'NVDA',    # Nvidia Corp. - Semiconductors, very high volatility growth\n",
    "    'GOOGL',   # Alphabet Inc. (Class A) - Tech/Internet, large cap, moderate\n",
    "    'META',    # Meta Platforms - Social Media/Tech, higher volatility\n",
    "    'NFLX',    # Netflix - Streaming Media, high volatility\n",
    "\n",
    "    # Financials (Mix of Stability and Growth)\n",
    "    'JPM',     # JPMorgan Chase - Banking, large cap, moderate volatility\n",
    "    'BAC',     # Bank of America - Banking, large cap, moderate volatility\n",
    "    'GS',      # Goldman Sachs - Investment Banking, moderate-high volatility\n",
    "    'BLK',     # BlackRock - Asset Management, moderate volatility\n",
    "    'V',       # Visa - Payments, moderate volatility\n",
    "    'MA',      # Mastercard - Payments, moderate volatility\n",
    "\n",
    "    # Healthcare (Mix of Stability and Growth)\n",
    "    'PFE',     # Pfizer - Pharmaceuticals, moderate volatility\n",
    "    'JNJ',     # Johnson & Johnson - Pharmaceuticals/Healthcare, stable, low volatility\n",
    "    'LLY',     # Eli Lilly and Company - Pharmaceuticals, growth (due to recent drugs), higher volatility\n",
    "    'UNH',     # UnitedHealth Group - Health Insurance, stable\n",
    "    'ABBV',    # AbbVie - Biopharmaceuticals, moderate volatility\n",
    "\n",
    "    # Consumer Defensive (Lower Volatility)\n",
    "    'KO',      # Coca-Cola - Beverages, low volatility\n",
    "    'MCD',     # McDonald's - Fast Food, low volatility\n",
    "    'WMT',     # Walmart - Retail, low volatility\n",
    "    'PG',      # Procter & Gamble - Consumer Goods, very low volatility\n",
    "    'PEP',     # PepsiCo - Beverages/Snacks, low volatility\n",
    "\n",
    "    # Consumer Discretionary (Mixed Volatility)\n",
    "    'DIS',     # Disney - Entertainment, moderate volatility\n",
    "    'HD',      # Home Depot - Home Improvement Retail, moderate volatility\n",
    "    'NKE',     # Nike - Apparel, moderate volatility\n",
    "    'SBUX',    # Starbucks - Coffee, moderate volatility\n",
    "\n",
    "    # Industrials (Mixed Volatility)\n",
    "    'BA',      # Boeing - Aerospace & Defense, can be volatile\n",
    "    'CAT',     # Caterpillar - Construction/Mining Equipment, cyclical, moderate volatility\n",
    "    'GE',      # General Electric - Industrial Conglomerate, often volatile\n",
    "    'LMT',     # Lockheed Martin - Aerospace & Defense, stable\n",
    "\n",
    "    # Energy (Mixed Volatility, commodity-linked)\n",
    "    'XOM',     # Exxon Mobil - Oil & Gas, typically lower volatility for energy\n",
    "    'CVX',     # Chevron - Oil & Gas, typically lower volatility for energy\n",
    "    'OXY',     # Occidental Petroleum - Oil & Gas, can be higher volatility\n",
    "\n",
    "    # Materials (Cyclical)\n",
    "    'FCX',     # Freeport-McMoRan - Copper Mining, volatile (commodity linked)\n",
    "    'LIN',     # Linde PLC - Industrial Gases, more stable\n",
    "\n",
    "    # Utilities (Low Volatility)\n",
    "    'NEE',     # NextEra Energy - Electric Utility, typically low volatility\n",
    "\n",
    "    # Real Estate (Often moderate volatility)\n",
    "    'SPG',     # Simon Property Group - Retail REIT, moderate volatility\n",
    "\n",
    "    # High Growth / Speculative (Higher Volatility)\n",
    "    'PLTR',    # Palantir - Technology Services and AI - very high volatility\n",
    "    'SOFI',    # FinTech - very high volatility\n",
    "    'HOOD',    # Robinhood Markets - Financial Services, high volatility\n",
    "    'RKLB',    # Rocket Lab USA - Aerospace, high volatility\n",
    "    'LUNR',    # Intuitive Machines - Space Exploration, very high volatility\n",
    "    'PYPL',    # PayPal - Fintech, high volatility\n",
    "\n",
    "    # 10 Major ETFs (not VIX-related, broad market & sector-specific)\n",
    "    'SPY',     # S&P 500 ETF - Broad Market (Large Cap)\n",
    "    'QQQ',     # Nasdaq 100 ETF - Technology Heavy (Growth)\n",
    "    'DIA',     # Dow Jones Industrial Average ETF - Blue Chip Large Cap\n",
    "    'IWM',     # Russell 2000 ETF - Small Cap, higher volatility\n",
    "    'GLD',     # SPDR Gold Shares - Gold (Commodity, defensive)\n",
    "    'XLF',     # Financial Select Sector SPDR Fund - Financial Sector\n",
    "    'XLK',     # Technology Select Sector SPDR Fund - Technology Sector\n",
    "    'XLE',     # Energy Select Sector SPDR Fund - Energy Sector\n",
    "    'VNQ',     # Vanguard Real Estate ETF - Real Estate Sector\n",
    "    'VOO',     # Vanguard S&P 500 ETF (alternative to SPY, slightly lower expense ratio)\n",
    "]\n"
   ]
  },
  {
   "cell_type": "markdown",
   "id": "e9941152",
   "metadata": {},
   "source": [
    "## Categorizing Stocks by Volatility\n",
    "\n",
    "We define a function to classify stocks into high, medium, and low volatility groups based on their historical standard deviation. The categorization is done using the 30th and 80th percentiles as thresholds.\n",
    "\n",
    "This allows us to analyze strategy performance across different volatility environments. Each group is returned as a dictionary and printed for verification.\n"
   ]
  },
  {
   "cell_type": "code",
   "execution_count": 81,
   "id": "1bc930bc",
   "metadata": {},
   "outputs": [],
   "source": [
    "def categorize_volatility(volatility_df):\n",
    "    \"\"\"\n",
    "    Categorizes tickers based on volatility percentiles into high, medium, and low buckets.\n",
    "    Returns dictionaries of symbol: volatility.\n",
    "    \"\"\"\n",
    "    high_vol = {}\n",
    "    medium_vol = {}\n",
    "    low_vol = {}\n",
    "\n",
    "    # Calculate thresholds\n",
    "    vols = volatility_df['volatility']\n",
    "    low_thresh = vols.quantile(0.30)\n",
    "    high_thresh = vols.quantile(0.80)\n",
    "\n",
    "    print(f\"Low Volatility threshold: {low_thresh:.4f}, High Volatility threshold: {high_thresh:.4f}\")\n",
    "\n",
    "    # Categorize\n",
    "    for symbol, row in volatility_df.iterrows():\n",
    "        vol = row['volatility']\n",
    "        if vol > high_thresh:\n",
    "            high_vol[symbol] = vol\n",
    "        elif vol > low_thresh:\n",
    "            medium_vol[symbol] = vol\n",
    "        else:\n",
    "            low_vol[symbol] = vol\n",
    "\n",
    "    # Debug output\n",
    "    print(\"🟥 High Volatility:\", high_vol.keys())\n",
    "    print(\"🟨 Medium Volatility:\", medium_vol.keys())\n",
    "    print(\"🟩 Low Volatility:\", low_vol.keys())\n",
    "\n",
    "    return high_vol, medium_vol, low_vol\n"
   ]
  },
  {
   "cell_type": "markdown",
   "id": "14643be4",
   "metadata": {},
   "source": [
    "## Creating Volatility Bins (High, Medium, and Low Groups)\n",
    "\n",
    "To begin the backtest process, we analyze the volatility of each stock using a 6-month lookback period with 1-hour intervals. This is done via the `analyze_volatility()` function, which leverages previously defined volatility functions to compute standard deviation for each symbol and classify them into **High**, **Medium**, and **Low** volatility groups.\n",
    "\n",
    "Each group is printed along with its corresponding tickers and standard deviation values. These volatility bins help us tailor strategy parameters based on different market regimes.\n",
    "\n",
    "You can easily adjust the analysis window by modifying the `interval` and `period` parameters in the function call.\n"
   ]
  },
  {
   "cell_type": "code",
   "execution_count": 82,
   "id": "08ef0f66",
   "metadata": {},
   "outputs": [
    {
     "name": "stdout",
     "output_type": "stream",
     "text": [
      "Total symbols in list: 55\n"
     ]
    },
    {
     "name": "stderr",
     "output_type": "stream",
     "text": [
      "[*********************100%***********************]  55 of 55 completed"
     ]
    },
    {
     "name": "stdout",
     "output_type": "stream",
     "text": [
      "Low Volatility threshold: 0.0065, High Volatility threshold: 0.0104\n",
      "🟥 High Volatility: dict_keys(['BA', 'FCX', 'HOOD', 'LUNR', 'NKE', 'NVDA', 'PLTR', 'RKLB', 'SOFI', 'TSLA', 'UNH'])\n",
      "🟨 Medium Volatility: dict_keys(['AAPL', 'ABBV', 'AMZN', 'BAC', 'BLK', 'CAT', 'CVX', 'DIS', 'GE', 'GOOGL', 'GS', 'IWM', 'JPM', 'LLY', 'LMT', 'META', 'MSFT', 'NEE', 'NFLX', 'OXY', 'PYPL', 'QQQ', 'SBUX', 'SPG', 'XLE', 'XLK', 'XOM'])\n",
      "🟩 Low Volatility: dict_keys(['DIA', 'GLD', 'HD', 'JNJ', 'KO', 'LIN', 'MA', 'MCD', 'PEP', 'PFE', 'PG', 'SPY', 'V', 'VNQ', 'VOO', 'WMT', 'XLF'])\n",
      "\n",
      "🔴 High Volatility:\n",
      "BA Standard Deviation: 0.011\n",
      "FCX Standard Deviation: 0.012\n",
      "HOOD Standard Deviation: 0.021\n",
      "LUNR Standard Deviation: 0.031\n",
      "NKE Standard Deviation: 0.011\n",
      "NVDA Standard Deviation: 0.014\n",
      "PLTR Standard Deviation: 0.021\n",
      "RKLB Standard Deviation: 0.024\n",
      "SOFI Standard Deviation: 0.017\n",
      "TSLA Standard Deviation: 0.017\n",
      "UNH Standard Deviation: 0.014\n",
      "\n",
      "🟠 Medium Volatility:\n",
      "AAPL Standard Deviation: 0.009\n",
      "ABBV Standard Deviation: 0.007\n",
      "AMZN Standard Deviation: 0.01\n",
      "BAC Standard Deviation: 0.009\n",
      "BLK Standard Deviation: 0.008\n",
      "CAT Standard Deviation: 0.008\n",
      "CVX Standard Deviation: 0.007\n",
      "DIS Standard Deviation: 0.008\n",
      "GE Standard Deviation: 0.008\n",
      "GOOGL Standard Deviation: 0.009\n",
      "GS Standard Deviation: 0.01\n",
      "IWM Standard Deviation: 0.007\n",
      "JPM Standard Deviation: 0.007\n",
      "LLY Standard Deviation: 0.01\n",
      "LMT Standard Deviation: 0.007\n",
      "META Standard Deviation: 0.01\n",
      "MSFT Standard Deviation: 0.007\n",
      "NEE Standard Deviation: 0.008\n",
      "NFLX Standard Deviation: 0.009\n",
      "OXY Standard Deviation: 0.01\n",
      "PYPL Standard Deviation: 0.009\n",
      "QQQ Standard Deviation: 0.007\n",
      "SBUX Standard Deviation: 0.009\n",
      "SPG Standard Deviation: 0.008\n",
      "XLE Standard Deviation: 0.007\n",
      "XLK Standard Deviation: 0.008\n",
      "XOM Standard Deviation: 0.007\n",
      "\n",
      "🟢 Low Volatility:\n",
      "DIA Standard Deviation: 0.005\n",
      "GLD Standard Deviation: 0.005\n",
      "HD Standard Deviation: 0.006\n",
      "JNJ Standard Deviation: 0.005\n",
      "KO Standard Deviation: 0.005\n",
      "LIN Standard Deviation: 0.005\n",
      "MA Standard Deviation: 0.006\n",
      "MCD Standard Deviation: 0.005\n",
      "PEP Standard Deviation: 0.005\n",
      "PFE Standard Deviation: 0.006\n",
      "PG Standard Deviation: 0.005\n",
      "SPY Standard Deviation: 0.006\n",
      "V Standard Deviation: 0.006\n",
      "VNQ Standard Deviation: 0.005\n",
      "VOO Standard Deviation: 0.006\n",
      "WMT Standard Deviation: 0.006\n",
      "XLF Standard Deviation: 0.006\n"
     ]
    },
    {
     "name": "stderr",
     "output_type": "stream",
     "text": [
      "\n"
     ]
    },
    {
     "data": {
      "text/plain": [
       "(        volatility\n",
       " Ticker            \n",
       " AAPL      0.008627\n",
       " ABBV      0.007076\n",
       " AMZN      0.009616\n",
       " BA        0.010929\n",
       " BAC       0.008501\n",
       " BLK       0.007813\n",
       " CAT       0.008192\n",
       " CVX       0.006894\n",
       " DIA       0.004970\n",
       " DIS       0.008140\n",
       " FCX       0.012186\n",
       " GE        0.008089\n",
       " GLD       0.004514\n",
       " GOOGL     0.008793\n",
       " GS        0.009509\n",
       " HD        0.006456\n",
       " HOOD      0.020810\n",
       " IWM       0.006907\n",
       " JNJ       0.005139\n",
       " JPM       0.007410\n",
       " KO        0.004685\n",
       " LIN       0.004898\n",
       " LLY       0.009904\n",
       " LMT       0.007040\n",
       " LUNR      0.031009\n",
       " MA        0.005802\n",
       " MCD       0.005227\n",
       " META      0.010349\n",
       " MSFT      0.007289\n",
       " NEE       0.007565\n",
       " NFLX      0.009415\n",
       " NKE       0.010841\n",
       " NVDA      0.013943\n",
       " OXY       0.010131\n",
       " PEP       0.005442\n",
       " PFE       0.006318\n",
       " PG        0.005026\n",
       " PLTR      0.020696\n",
       " PYPL      0.009199\n",
       " QQQ       0.006750\n",
       " RKLB      0.023894\n",
       " SBUX      0.009052\n",
       " SOFI      0.016708\n",
       " SPG       0.008203\n",
       " SPY       0.005581\n",
       " TSLA      0.017115\n",
       " UNH       0.013553\n",
       " V         0.005604\n",
       " VNQ       0.005089\n",
       " VOO       0.005590\n",
       " WMT       0.006259\n",
       " XLE       0.007179\n",
       " XLF       0.005880\n",
       " XLK       0.007699\n",
       " XOM       0.006525,\n",
       " {'BA': 0.010929362948563805,\n",
       "  'FCX': 0.012185754334217697,\n",
       "  'HOOD': 0.020809770227097964,\n",
       "  'LUNR': 0.03100879670436727,\n",
       "  'NKE': 0.010840540737649004,\n",
       "  'NVDA': 0.013943203009422344,\n",
       "  'PLTR': 0.02069629658195217,\n",
       "  'RKLB': 0.023893711564589182,\n",
       "  'SOFI': 0.016708281639300205,\n",
       "  'TSLA': 0.017115166169219372,\n",
       "  'UNH': 0.013553351951294557},\n",
       " {'AAPL': 0.008627089076633964,\n",
       "  'ABBV': 0.00707592940383369,\n",
       "  'AMZN': 0.009615791101526688,\n",
       "  'BAC': 0.008500673852173861,\n",
       "  'BLK': 0.007813247027651533,\n",
       "  'CAT': 0.00819191752641255,\n",
       "  'CVX': 0.006894128957394842,\n",
       "  'DIS': 0.008139734529903703,\n",
       "  'GE': 0.008089123905629483,\n",
       "  'GOOGL': 0.008793087924881177,\n",
       "  'GS': 0.009509007870716252,\n",
       "  'IWM': 0.006906946892745031,\n",
       "  'JPM': 0.00740988208423884,\n",
       "  'LLY': 0.009904194843915581,\n",
       "  'LMT': 0.007039586314483587,\n",
       "  'META': 0.01034851234433706,\n",
       "  'MSFT': 0.007288618235316929,\n",
       "  'NEE': 0.0075652150118904775,\n",
       "  'NFLX': 0.009415313203497623,\n",
       "  'OXY': 0.010131076335276505,\n",
       "  'PYPL': 0.009198602064391388,\n",
       "  'QQQ': 0.006749503203616965,\n",
       "  'SBUX': 0.009051825549630316,\n",
       "  'SPG': 0.008203385739853358,\n",
       "  'XLE': 0.00717946434579817,\n",
       "  'XLK': 0.007698929489408348,\n",
       "  'XOM': 0.006524753249855091},\n",
       " {'DIA': 0.004970253808887703,\n",
       "  'GLD': 0.004514117302089483,\n",
       "  'HD': 0.006455697848222062,\n",
       "  'JNJ': 0.005138554190272713,\n",
       "  'KO': 0.004684945545381493,\n",
       "  'LIN': 0.0048983106124439605,\n",
       "  'MA': 0.005801594862489116,\n",
       "  'MCD': 0.005226923632440463,\n",
       "  'PEP': 0.005442237079111932,\n",
       "  'PFE': 0.006318106566489576,\n",
       "  'PG': 0.005025717748422489,\n",
       "  'SPY': 0.005581388755725877,\n",
       "  'V': 0.0056042981589622546,\n",
       "  'VNQ': 0.00508911393187395,\n",
       "  'VOO': 0.005589733118855734,\n",
       "  'WMT': 0.006258532577518228,\n",
       "  'XLF': 0.005879711608854722})"
      ]
     },
     "execution_count": 82,
     "metadata": {},
     "output_type": "execute_result"
    }
   ],
   "source": [
    "def analyze_volatility(symbols = symbols, interval='1h', period='6mo'):\n",
    "    \n",
    "    print(f\"Total symbols in list: {len(symbols)}\")\n",
    "\n",
    "    vol_df = check_volatility(symbols, interval, period)\n",
    "\n",
    "    high_vol, medium_vol, low_vol = categorize_volatility(vol_df)\n",
    "\n",
    "    print(\"\\n🔴 High Volatility:\")\n",
    "    for s, v in high_vol.items():\n",
    "        print(f'{s} Standard Deviation: {round(v,3)}')\n",
    "\n",
    "    print(\"\\n🟠 Medium Volatility:\")\n",
    "    for s, v in medium_vol.items():\n",
    "        print(f'{s} Standard Deviation: {round(v,3)}')\n",
    "\n",
    "    print(\"\\n🟢 Low Volatility:\")\n",
    "    for s, v in low_vol.items():\n",
    "        print(f'{s} Standard Deviation: {round(v,3)}')\n",
    "    \n",
    "    return vol_df, high_vol, medium_vol, low_vol\n",
    "\n",
    "analyze_volatility()"
   ]
  },
  {
   "cell_type": "markdown",
   "id": "212d7c3e",
   "metadata": {},
   "source": [
    "## Parameter Sets by Volatility Group\n",
    "\n",
    "We define parameter sets for each volatility bin: `high`,   `medium`, and   `low` to capture the behavioral differences between\n"
   ]
  },
  {
   "cell_type": "code",
   "execution_count": 83,
   "id": "acde1c62",
   "metadata": {},
   "outputs": [],
   "source": [
    "# Parameters for High Volatility Stocks\n",
    "params_high_vol = {\n",
    "    'mom_short_period': 7,   # A longer short-term momentum period to smooth out rapid price fluctuations and reduce false signals in highly volatile environments.\n",
    "    'mom_long_period': 14,   # A longer-term momentum baseline to compare against short-term shifts, helping confirm sustained trends.\n",
    "    'sma_period': 18,        # A moderately short SMA to follow price action closely without reacting to every spike.\n",
    "    'tp_perc': 5.0,          # A more aggressive take-profit level to capitalize on larger price swings that are typical in high volatility.\n",
    "    'sl_perc': 2.5,          # A wider stop-loss to avoid getting stopped out by normal noise or temporary spikes in volatile stocks.\n",
    "}\n",
    "\n",
    "# Parameters for Medium Volatility Stocks\n",
    "params_medium_vol = {\n",
    "    'mom_short_period': 4,   # A moderate short-term momentum period to capture meaningful shifts without overreacting.\n",
    "    'mom_long_period': 10,   # Balanced long-term momentum for comparison to short-term movements.\n",
    "    'sma_period': 22,        # A slightly longer SMA to smooth price action moderately, fitting the typical behavior of medium-volatility stocks.\n",
    "    'tp_perc': 1.75,         # A balanced take-profit level to lock in gains while still allowing room for trends to develop.\n",
    "    'sl_perc': 1.0,          # A moderate stop-loss that gives trades breathing room without risking large losses.\n",
    "}\n",
    "\n",
    "# Parameters for Low Volatility Stocks\n",
    "params_low_vol = {\n",
    "    'mom_short_period': 3,   # A short momentum trigger to increase sensitivity and react faster to subtle price changes.\n",
    "    'mom_long_period': 9,    # A relatively shorter long-term momentum setting to remain responsive in a calm market.\n",
    "    'sma_period': 30,        # A longer SMA to provide strong trend confirmation and filter out minor movements in low-volatility environments.\n",
    "    'tp_perc': 0.75,         # A conservative take-profit level, matching the typical smaller moves in low-volatility stocks.\n",
    "    'sl_perc': 0.5,          # A tight stop-loss, appropriate for low-volatility assets with minimal noise.\n",
    "}\n"
   ]
  },
  {
   "cell_type": "markdown",
   "id": "9ef31844",
   "metadata": {},
   "source": [
    "## Running the Backtests Across Volatility Groups\n",
    "\n",
    "Many tasks are performed here—this is the core execution block. We create and call a backtest pipeline, then present the results in a user-friendly and readable format. Let’s walk through it step by step:\n",
    "\n",
    "🔍 **Step 1: Display Volatility Group Breakdown for Visual Inspection**  \n",
    "We print out the number of tickers and their symbols, grouped by volatility. This gives us a clear view of what we're working with.\n",
    "\n",
    "🔄 **Step 2: Define and Run the Backtest Pipeline**  \n",
    "We define a `process_group` function that does the heavy lifting:\n",
    "\n",
    "* Iterates through each ticker in a volatility group\n",
    "* Runs a backtest using the corresponding strategy parameters\n",
    "* Collects successful results into a DataFrame for later analysis\n",
    "\n",
    "🚀 **Step 3: Execute Backtests for Each Group**  \n",
    "We call `process_group` three times—once for each volatility class: High, Medium, and Low.\n",
    "\n",
    "📌 **Step 4: Print Execution Summary**  \n",
    "While processing stocks, we print out the individual results for each ticker as they are completeted, then log how many backtests were successfully completed for a quick verification.\n",
    "\n",
    "📊 **Step 5: Combine and Review Results**  \n",
    "We merge all single-row DataFrames into a master table and sort the results by expectancy, making it easy to spot top performers.\n",
    "\n",
    "📉 **Step 6: Visualize Performance by Volatility Group**  \n",
    "Finally, we generate a bar plot to visualize expectancy by ticker and volatility group. This lets us quickly compare strategy performance across different market conditions.\n",
    "\n",
    "📌 **Step 7: Final Quality Check**  \n",
    "We assess the global quality of all completed backtests by checking how many had:\n",
    "\n",
    "* Positive Total Return\n",
    "\n",
    "* Positive Expectancy\n",
    "\n",
    "* Sharpe Ratio above 1.0\n",
    "\n",
    "This gives a concise overview of how many strategies not only ran successfully but also met a reasonable performance standard.\n",
    "\n"
   ]
  },
  {
   "cell_type": "code",
   "execution_count": null,
   "id": "6e5999f6",
   "metadata": {},
   "outputs": [
    {
     "name": "stdout",
     "output_type": "stream",
     "text": [
      "\n",
      "🔴 High Volatility (11 stocks): ['BA', 'FCX', 'HOOD', 'LUNR', 'NKE', 'NVDA', 'PLTR', 'RKLB', 'SOFI', 'TSLA', 'UNH']\n",
      "🟠 Medium Volatility (27 stocks): ['AAPL', 'ABBV', 'AMZN', 'BAC', 'BLK', 'CAT', 'CVX', 'DIS', 'GE', 'GOOGL', 'GS', 'IWM', 'JPM', 'LLY', 'LMT', 'META', 'MSFT', 'NEE', 'NFLX', 'OXY', 'PYPL', 'QQQ', 'SBUX', 'SPG', 'XLE', 'XLK', 'XOM']\n",
      "🟢 Low Volatility (17 stocks): ['DIA', 'GLD', 'HD', 'JNJ', 'KO', 'LIN', 'MA', 'MCD', 'PEP', 'PFE', 'PG', 'SPY', 'V', 'VNQ', 'VOO', 'WMT', 'XLF']\n",
      "\n",
      "High Volatility Stocks\n",
      "------------------------------\n"
     ]
    },
    {
     "name": "stderr",
     "output_type": "stream",
     "text": [
      "[*********************100%***********************]  1 of 1 completed\n"
     ]
    },
    {
     "name": "stdout",
     "output_type": "stream",
     "text": [
      "Data Count: 857\n",
      " \n",
      "*********  STARTING BACKTEST FOR BA  *********\n",
      "\n",
      "=== Portfolio Value ===\n",
      "Starting Portfolio Value: 100000\n",
      "Final Portfolio Value   : 96567.23606872559\n",
      "\n",
      "=== Strategy Performance ===\n",
      "Return %         : -3.43%\n",
      "Total Trades     : 52\n",
      "Win Rate         : 48.08%\n",
      "Expectancy       : -66.01\n",
      "Avg Win          : 1234.20\n",
      "Avg Loss         : 1269.91\n",
      "\n",
      "=== Risk Metrics ===\n",
      "Sharpe Ratio: -0.4687933378637498\n",
      "Max Drawdown: 18.56470220313309\n"
     ]
    },
    {
     "name": "stderr",
     "output_type": "stream",
     "text": [
      "[*********************100%***********************]  1 of 1 completed\n"
     ]
    },
    {
     "name": "stdout",
     "output_type": "stream",
     "text": [
      "Data Count: 857\n",
      " \n",
      "*********  STARTING BACKTEST FOR FCX  *********\n",
      "\n",
      "=== Portfolio Value ===\n",
      "Starting Portfolio Value: 100000\n",
      "Final Portfolio Value   : 96324.57298851013\n",
      "\n",
      "=== Strategy Performance ===\n",
      "Return %         : -3.68%\n",
      "Total Trades     : 51\n",
      "Win Rate         : 43.14%\n",
      "Expectancy       : -72.07\n",
      "Avg Win          : 1593.61\n",
      "Avg Loss         : 1335.69\n",
      "\n",
      "=== Risk Metrics ===\n",
      "Sharpe Ratio: -1.091919120999238\n",
      "Max Drawdown: 11.052563983917237\n"
     ]
    },
    {
     "name": "stderr",
     "output_type": "stream",
     "text": [
      "[*********************100%***********************]  1 of 1 completed\n"
     ]
    },
    {
     "name": "stdout",
     "output_type": "stream",
     "text": [
      "Data Count: 857\n",
      " \n",
      "*********  STARTING BACKTEST FOR HOOD  *********\n",
      "\n",
      "=== Portfolio Value ===\n",
      "Starting Portfolio Value: 100000\n",
      "Final Portfolio Value   : 130589.61312484741\n",
      "\n",
      "=== Strategy Performance ===\n",
      "Return %         : 30.59%\n",
      "Total Trades     : 19\n",
      "Win Rate         : 73.68%\n",
      "Expectancy       : 1609.98\n",
      "Avg Win          : 2611.04\n",
      "Avg Loss         : 1193.00\n",
      "\n",
      "=== Risk Metrics ===\n",
      "Sharpe Ratio: 1.0610684775983006\n",
      "Max Drawdown: 5.512831891208965\n"
     ]
    },
    {
     "name": "stderr",
     "output_type": "stream",
     "text": [
      "[*********************100%***********************]  1 of 1 completed\n"
     ]
    },
    {
     "name": "stdout",
     "output_type": "stream",
     "text": [
      "Data Count: 857\n",
      " \n",
      "*********  STARTING BACKTEST FOR LUNR  *********\n",
      "\n",
      "=== Portfolio Value ===\n",
      "Starting Portfolio Value: 100000\n",
      "Final Portfolio Value   : 96125.4977478981\n",
      "\n",
      "=== Strategy Performance ===\n",
      "Return %         : -3.87%\n",
      "Total Trades     : 39\n",
      "Win Rate         : 38.46%\n",
      "Expectancy       : -99.35\n",
      "Avg Win          : 3848.10\n",
      "Avg Loss         : 2566.50\n",
      "\n",
      "=== Risk Metrics ===\n",
      "Sharpe Ratio: -1.0316688792637558\n",
      "Max Drawdown: 16.03318332631367\n"
     ]
    },
    {
     "name": "stderr",
     "output_type": "stream",
     "text": [
      "[*********************100%***********************]  1 of 1 completed\n"
     ]
    },
    {
     "name": "stdout",
     "output_type": "stream",
     "text": [
      "Data Count: 857\n",
      " \n",
      "*********  STARTING BACKTEST FOR NKE  *********\n",
      "\n",
      "=== Portfolio Value ===\n",
      "Starting Portfolio Value: 100000\n",
      "Final Portfolio Value   : 94931.42949295044\n",
      "\n",
      "=== Strategy Performance ===\n",
      "Return %         : -5.07%\n",
      "Total Trades     : 57\n",
      "Win Rate         : 40.35%\n",
      "Expectancy       : -88.92\n",
      "Avg Win          : 1113.92\n",
      "Avg Loss         : 902.61\n",
      "\n",
      "=== Risk Metrics ===\n",
      "Sharpe Ratio: -0.6552323791259625\n",
      "Max Drawdown: 11.956253640261775\n"
     ]
    },
    {
     "name": "stderr",
     "output_type": "stream",
     "text": [
      "[*********************100%***********************]  1 of 1 completed\n"
     ]
    },
    {
     "name": "stdout",
     "output_type": "stream",
     "text": [
      "Data Count: 857\n",
      " \n",
      "*********  STARTING BACKTEST FOR NVDA  *********\n",
      "\n",
      "=== Portfolio Value ===\n",
      "Starting Portfolio Value: 100000\n",
      "Final Portfolio Value   : 92484.87637329102\n",
      "\n",
      "=== Strategy Performance ===\n",
      "Return %         : -7.52%\n",
      "Total Trades     : 27\n",
      "Win Rate         : 29.63%\n",
      "Expectancy       : -278.34\n",
      "Avg Win          : 1652.96\n",
      "Avg Loss         : 1091.51\n",
      "\n",
      "=== Risk Metrics ===\n",
      "Sharpe Ratio: -5.363676578845322\n",
      "Max Drawdown: 8.456641290143203\n"
     ]
    },
    {
     "name": "stderr",
     "output_type": "stream",
     "text": [
      "[*********************100%***********************]  1 of 1 completed\n"
     ]
    },
    {
     "name": "stdout",
     "output_type": "stream",
     "text": [
      "Data Count: 857\n",
      " \n",
      "*********  STARTING BACKTEST FOR PLTR  *********\n",
      "\n",
      "=== Portfolio Value ===\n",
      "Starting Portfolio Value: 100000\n",
      "Final Portfolio Value   : 113707.60526275635\n",
      "\n",
      "=== Strategy Performance ===\n",
      "Return %         : 13.71%\n",
      "Total Trades     : 37\n",
      "Win Rate         : 56.76%\n",
      "Expectancy       : 370.48\n",
      "Avg Win          : 2473.16\n",
      "Avg Loss         : 2389.30\n",
      "\n",
      "=== Risk Metrics ===\n",
      "Sharpe Ratio: 4.2527485328845085\n",
      "Max Drawdown: 15.673193443803202\n"
     ]
    },
    {
     "name": "stderr",
     "output_type": "stream",
     "text": [
      "[*********************100%***********************]  1 of 1 completed\n"
     ]
    },
    {
     "name": "stdout",
     "output_type": "stream",
     "text": [
      "Data Count: 857\n",
      " \n",
      "*********  STARTING BACKTEST FOR RKLB  *********\n",
      "\n",
      "=== Portfolio Value ===\n",
      "Starting Portfolio Value: 100000\n",
      "Final Portfolio Value   : 145602.1027317047\n",
      "\n",
      "=== Strategy Performance ===\n",
      "Return %         : 45.60%\n",
      "Total Trades     : 42\n",
      "Win Rate         : 47.62%\n",
      "Expectancy       : 1085.76\n",
      "Avg Win          : 4873.38\n",
      "Avg Loss         : 2357.53\n",
      "\n",
      "=== Risk Metrics ===\n",
      "Sharpe Ratio: 1.9503599735745103\n",
      "Max Drawdown: 14.20828716726454\n"
     ]
    },
    {
     "name": "stderr",
     "output_type": "stream",
     "text": [
      "[*********************100%***********************]  1 of 1 completed\n"
     ]
    },
    {
     "name": "stdout",
     "output_type": "stream",
     "text": [
      "Data Count: 857\n",
      " \n",
      "*********  STARTING BACKTEST FOR SOFI  *********\n",
      "\n",
      "=== Portfolio Value ===\n",
      "Starting Portfolio Value: 100000\n",
      "Final Portfolio Value   : 117568.14725780487\n",
      "\n",
      "=== Strategy Performance ===\n",
      "Return %         : 17.57%\n",
      "Total Trades     : 26\n",
      "Win Rate         : 57.69%\n",
      "Expectancy       : 675.70\n",
      "Avg Win          : 2414.34\n",
      "Avg Loss         : 1695.18\n",
      "\n",
      "=== Risk Metrics ===\n",
      "Sharpe Ratio: 0.9680062143726208\n",
      "Max Drawdown: 6.431629418196134\n"
     ]
    },
    {
     "name": "stderr",
     "output_type": "stream",
     "text": [
      "[*********************100%***********************]  1 of 1 completed\n"
     ]
    },
    {
     "name": "stdout",
     "output_type": "stream",
     "text": [
      "Data Count: 857\n",
      " \n",
      "*********  STARTING BACKTEST FOR TSLA  *********\n",
      "\n",
      "=== Portfolio Value ===\n",
      "Starting Portfolio Value: 100000\n",
      "Final Portfolio Value   : 101206.69909667969\n",
      "\n",
      "=== Strategy Performance ===\n",
      "Return %         : 1.21%\n",
      "Total Trades     : 49\n",
      "Win Rate         : 42.86%\n",
      "Expectancy       : 24.63\n",
      "Avg Win          : 2557.22\n",
      "Avg Loss         : 1874.82\n",
      "\n",
      "=== Risk Metrics ===\n",
      "Sharpe Ratio: -0.00291388689593079\n",
      "Max Drawdown: 18.10641623339609\n"
     ]
    },
    {
     "name": "stderr",
     "output_type": "stream",
     "text": [
      "[*********************100%***********************]  1 of 1 completed\n"
     ]
    },
    {
     "name": "stdout",
     "output_type": "stream",
     "text": [
      "Data Count: 857\n",
      " \n",
      "*********  STARTING BACKTEST FOR UNH  *********\n",
      "\n",
      "=== Portfolio Value ===\n",
      "Starting Portfolio Value: 100000\n",
      "Final Portfolio Value   : 98224.79711914062\n",
      "\n",
      "=== Strategy Performance ===\n",
      "Return %         : -1.78%\n",
      "Total Trades     : 50\n",
      "Win Rate         : 46.00%\n",
      "Expectancy       : -16.35\n",
      "Avg Win          : 709.86\n",
      "Avg Loss         : 634.97\n",
      "\n",
      "=== Risk Metrics ===\n",
      "Sharpe Ratio: -1.6797468599711374\n",
      "Max Drawdown: 5.896738689947513\n",
      "\n",
      "Medium Volatility Stocks\n",
      "------------------------------\n"
     ]
    },
    {
     "name": "stderr",
     "output_type": "stream",
     "text": [
      "[*********************100%***********************]  1 of 1 completed\n"
     ]
    },
    {
     "name": "stdout",
     "output_type": "stream",
     "text": [
      "Data Count: 857\n",
      " \n",
      "*********  STARTING BACKTEST FOR AAPL  *********\n",
      "\n",
      "=== Portfolio Value ===\n",
      "Starting Portfolio Value: 100000\n",
      "Final Portfolio Value   : 117367.97286987305\n",
      "\n",
      "=== Strategy Performance ===\n",
      "Return %         : 17.37%\n",
      "Total Trades     : 49\n",
      "Win Rate         : 61.22%\n",
      "Expectancy       : 347.77\n",
      "Avg Win          : 918.87\n",
      "Avg Loss         : 553.98\n",
      "\n",
      "=== Risk Metrics ===\n",
      "Sharpe Ratio: 1.0085602681719537\n",
      "Max Drawdown: 2.7194278543957404\n"
     ]
    },
    {
     "name": "stderr",
     "output_type": "stream",
     "text": [
      "[*********************100%***********************]  1 of 1 completed\n"
     ]
    },
    {
     "name": "stdout",
     "output_type": "stream",
     "text": [
      "Data Count: 857\n",
      " \n",
      "*********  STARTING BACKTEST FOR ABBV  *********\n",
      "\n",
      "=== Portfolio Value ===\n",
      "Starting Portfolio Value: 100000\n",
      "Final Portfolio Value   : 98782.92993164062\n",
      "\n",
      "=== Strategy Performance ===\n",
      "Return %         : -1.22%\n",
      "Total Trades     : 17\n",
      "Win Rate         : 35.29%\n",
      "Expectancy       : -71.59\n",
      "Avg Win          : 390.48\n",
      "Avg Loss         : 323.63\n",
      "\n",
      "=== Risk Metrics ===\n",
      "Sharpe Ratio: -1.9478969008028038\n",
      "Max Drawdown: 1.9228975819478882\n"
     ]
    },
    {
     "name": "stderr",
     "output_type": "stream",
     "text": [
      "[*********************100%***********************]  1 of 1 completed\n"
     ]
    },
    {
     "name": "stdout",
     "output_type": "stream",
     "text": [
      "Data Count: 857\n",
      " \n",
      "*********  STARTING BACKTEST FOR AMZN  *********\n",
      "\n",
      "=== Portfolio Value ===\n",
      "Starting Portfolio Value: 100000\n",
      "Final Portfolio Value   : 92579.29357910156\n",
      "\n",
      "=== Strategy Performance ===\n",
      "Return %         : -7.42%\n",
      "Total Trades     : 55\n",
      "Win Rate         : 40.00%\n",
      "Expectancy       : -134.92\n",
      "Avg Win          : 1219.78\n",
      "Avg Loss         : 1038.05\n",
      "\n",
      "=== Risk Metrics ===\n",
      "Sharpe Ratio: -1.30367191256473\n",
      "Max Drawdown: 11.551676350642811\n"
     ]
    },
    {
     "name": "stderr",
     "output_type": "stream",
     "text": [
      "[*********************100%***********************]  1 of 1 completed\n"
     ]
    },
    {
     "name": "stdout",
     "output_type": "stream",
     "text": [
      "Data Count: 857\n",
      " \n",
      "*********  STARTING BACKTEST FOR BAC  *********\n",
      "\n",
      "=== Portfolio Value ===\n",
      "Starting Portfolio Value: 100000\n",
      "Final Portfolio Value   : 102108.53273773193\n",
      "\n",
      "=== Strategy Performance ===\n",
      "Return %         : 2.11%\n",
      "Total Trades     : 67\n",
      "Win Rate         : 46.27%\n",
      "Expectancy       : 31.47\n",
      "Avg Win          : 643.34\n",
      "Avg Loss         : 495.42\n",
      "\n",
      "=== Risk Metrics ===\n",
      "Sharpe Ratio: 0.06191010181353623\n",
      "Max Drawdown: 4.830605445980992\n"
     ]
    },
    {
     "name": "stderr",
     "output_type": "stream",
     "text": [
      "[*********************100%***********************]  1 of 1 completed\n"
     ]
    },
    {
     "name": "stdout",
     "output_type": "stream",
     "text": [
      "Data Count: 857\n",
      " \n",
      "*********  STARTING BACKTEST FOR BLK  *********\n",
      "\n",
      "=== Portfolio Value ===\n",
      "Starting Portfolio Value: 100000\n",
      "Final Portfolio Value   : 108398.49249267578\n",
      "\n",
      "=== Strategy Performance ===\n",
      "Return %         : 8.40%\n",
      "Total Trades     : 57\n",
      "Win Rate         : 52.63%\n",
      "Expectancy       : 147.34\n",
      "Avg Win          : 801.40\n",
      "Avg Loss         : 579.39\n",
      "\n",
      "=== Risk Metrics ===\n",
      "Sharpe Ratio: 1.0263291176984266\n",
      "Max Drawdown: 4.049119818389961\n"
     ]
    },
    {
     "name": "stderr",
     "output_type": "stream",
     "text": [
      "[*********************100%***********************]  1 of 1 completed\n"
     ]
    },
    {
     "name": "stdout",
     "output_type": "stream",
     "text": [
      "Data Count: 857\n",
      " \n",
      "*********  STARTING BACKTEST FOR CAT  *********\n",
      "\n",
      "=== Portfolio Value ===\n",
      "Starting Portfolio Value: 100000\n",
      "Final Portfolio Value   : 97743.02554321289\n",
      "\n",
      "=== Strategy Performance ===\n",
      "Return %         : -2.26%\n",
      "Total Trades     : 55\n",
      "Win Rate         : 43.64%\n",
      "Expectancy       : -41.04\n",
      "Avg Win          : 872.45\n",
      "Avg Loss         : 748.25\n",
      "\n",
      "=== Risk Metrics ===\n",
      "Sharpe Ratio: -1.0134521901322555\n",
      "Max Drawdown: 6.2443126090350995\n"
     ]
    },
    {
     "name": "stderr",
     "output_type": "stream",
     "text": [
      "[*********************100%***********************]  1 of 1 completed\n"
     ]
    },
    {
     "name": "stdout",
     "output_type": "stream",
     "text": [
      "Data Count: 857\n",
      " \n",
      "*********  STARTING BACKTEST FOR CVX  *********\n",
      "\n",
      "=== Portfolio Value ===\n",
      "Starting Portfolio Value: 100000\n",
      "Final Portfolio Value   : 96074.70137023926\n",
      "\n",
      "=== Strategy Performance ===\n",
      "Return %         : -3.93%\n",
      "Total Trades     : 57\n",
      "Win Rate         : 49.12%\n",
      "Expectancy       : -64.65\n",
      "Avg Win          : 409.67\n",
      "Avg Loss         : 522.62\n",
      "\n",
      "=== Risk Metrics ===\n",
      "Sharpe Ratio: -6.714346145253185\n",
      "Max Drawdown: 5.577080134624376\n"
     ]
    },
    {
     "name": "stderr",
     "output_type": "stream",
     "text": [
      "[*********************100%***********************]  1 of 1 completed\n"
     ]
    },
    {
     "name": "stdout",
     "output_type": "stream",
     "text": [
      "Data Count: 857\n",
      " \n",
      "*********  STARTING BACKTEST FOR DIS  *********\n",
      "\n",
      "=== Portfolio Value ===\n",
      "Starting Portfolio Value: 100000\n",
      "Final Portfolio Value   : 103350.95375061035\n",
      "\n",
      "=== Strategy Performance ===\n",
      "Return %         : 3.35%\n",
      "Total Trades     : 64\n",
      "Win Rate         : 51.56%\n",
      "Expectancy       : 52.36\n",
      "Avg Win          : 709.70\n",
      "Avg Loss         : 647.39\n",
      "\n",
      "=== Risk Metrics ===\n",
      "Sharpe Ratio: 0.580999365941389\n",
      "Max Drawdown: 8.112834897271254\n"
     ]
    },
    {
     "name": "stderr",
     "output_type": "stream",
     "text": [
      "[*********************100%***********************]  1 of 1 completed\n"
     ]
    },
    {
     "name": "stdout",
     "output_type": "stream",
     "text": [
      "Data Count: 857\n",
      " \n",
      "*********  STARTING BACKTEST FOR GE  *********\n",
      "\n",
      "=== Portfolio Value ===\n",
      "Starting Portfolio Value: 100000\n",
      "Final Portfolio Value   : 106717.28497314453\n",
      "\n",
      "=== Strategy Performance ===\n",
      "Return %         : 6.72%\n",
      "Total Trades     : 55\n",
      "Win Rate         : 52.73%\n",
      "Expectancy       : 127.34\n",
      "Avg Win          : 790.71\n",
      "Avg Loss         : 612.58\n",
      "\n",
      "=== Risk Metrics ===\n",
      "Sharpe Ratio: 0.8496937811764923\n",
      "Max Drawdown: 3.291717951644891\n"
     ]
    },
    {
     "name": "stderr",
     "output_type": "stream",
     "text": [
      "[*********************100%***********************]  1 of 1 completed\n"
     ]
    },
    {
     "name": "stdout",
     "output_type": "stream",
     "text": [
      "Data Count: 857\n",
      " \n",
      "*********  STARTING BACKTEST FOR GOOGL  *********\n",
      "\n",
      "=== Portfolio Value ===\n",
      "Starting Portfolio Value: 100000\n",
      "Final Portfolio Value   : 100522.35675048828\n",
      "\n",
      "=== Strategy Performance ===\n",
      "Return %         : 0.52%\n",
      "Total Trades     : 53\n",
      "Win Rate         : 52.83%\n",
      "Expectancy       : 9.86\n",
      "Avg Win          : 741.47\n",
      "Avg Loss         : 809.55\n",
      "\n",
      "=== Risk Metrics ===\n",
      "Sharpe Ratio: -0.9502078534792255\n",
      "Max Drawdown: 8.218174516356806\n"
     ]
    },
    {
     "name": "stderr",
     "output_type": "stream",
     "text": [
      "[*********************100%***********************]  1 of 1 completed\n"
     ]
    },
    {
     "name": "stdout",
     "output_type": "stream",
     "text": [
      "Data Count: 857\n",
      " \n",
      "*********  STARTING BACKTEST FOR GS  *********\n",
      "\n",
      "=== Portfolio Value ===\n",
      "Starting Portfolio Value: 100000\n",
      "Final Portfolio Value   : 101596.7766418457\n",
      "\n",
      "=== Strategy Performance ===\n",
      "Return %         : 1.60%\n",
      "Total Trades     : 58\n",
      "Win Rate         : 48.28%\n",
      "Expectancy       : 27.53\n",
      "Avg Win          : 965.10\n",
      "Avg Loss         : 847.53\n",
      "\n",
      "=== Risk Metrics ===\n",
      "Sharpe Ratio: -0.18143884964777382\n",
      "Max Drawdown: 5.377364801835732\n"
     ]
    },
    {
     "name": "stderr",
     "output_type": "stream",
     "text": [
      "[*********************100%***********************]  1 of 1 completed\n"
     ]
    },
    {
     "name": "stdout",
     "output_type": "stream",
     "text": [
      "Data Count: 857\n",
      " \n",
      "*********  STARTING BACKTEST FOR IWM  *********\n",
      "\n",
      "=== Portfolio Value ===\n",
      "Starting Portfolio Value: 100000\n",
      "Final Portfolio Value   : 100671.15864562988\n",
      "\n",
      "=== Strategy Performance ===\n",
      "Return %         : 0.67%\n",
      "Total Trades     : 54\n",
      "Win Rate         : 53.70%\n",
      "Expectancy       : 12.43\n",
      "Avg Win          : 666.30\n",
      "Avg Loss         : 746.06\n",
      "\n",
      "=== Risk Metrics ===\n",
      "Sharpe Ratio: -0.6502495102402832\n",
      "Max Drawdown: 6.295899002929698\n"
     ]
    },
    {
     "name": "stderr",
     "output_type": "stream",
     "text": [
      "[*********************100%***********************]  1 of 1 completed\n"
     ]
    },
    {
     "name": "stdout",
     "output_type": "stream",
     "text": [
      "Data Count: 857\n",
      " \n",
      "*********  STARTING BACKTEST FOR JPM  *********\n",
      "\n",
      "=== Portfolio Value ===\n",
      "Starting Portfolio Value: 100000\n",
      "Final Portfolio Value   : 113728.00451660156\n",
      "\n",
      "=== Strategy Performance ===\n",
      "Return %         : 13.73%\n",
      "Total Trades     : 60\n",
      "Win Rate         : 61.67%\n",
      "Expectancy       : 228.80\n",
      "Avg Win          : 770.53\n",
      "Avg Loss         : 642.68\n",
      "\n",
      "=== Risk Metrics ===\n",
      "Sharpe Ratio: 1.0992582602911394\n",
      "Max Drawdown: 3.246420922645809\n"
     ]
    },
    {
     "name": "stderr",
     "output_type": "stream",
     "text": [
      "[*********************100%***********************]  1 of 1 completed\n"
     ]
    },
    {
     "name": "stdout",
     "output_type": "stream",
     "text": [
      "Data Count: 857\n",
      " \n",
      "*********  STARTING BACKTEST FOR LLY  *********\n",
      "\n",
      "=== Portfolio Value ===\n",
      "Starting Portfolio Value: 100000\n",
      "Final Portfolio Value   : 92762.33935546875\n",
      "\n",
      "=== Strategy Performance ===\n",
      "Return %         : -7.24%\n",
      "Total Trades     : 57\n",
      "Win Rate         : 45.61%\n",
      "Expectancy       : -126.98\n",
      "Avg Win          : 734.63\n",
      "Avg Loss         : 849.62\n",
      "\n",
      "=== Risk Metrics ===\n",
      "Sharpe Ratio: -0.9424286967311775\n",
      "Max Drawdown: 13.960237201437302\n"
     ]
    },
    {
     "name": "stderr",
     "output_type": "stream",
     "text": [
      "[*********************100%***********************]  1 of 1 completed\n"
     ]
    },
    {
     "name": "stdout",
     "output_type": "stream",
     "text": [
      "Data Count: 857\n",
      " \n",
      "*********  STARTING BACKTEST FOR LMT  *********\n",
      "\n",
      "=== Portfolio Value ===\n",
      "Starting Portfolio Value: 100000\n",
      "Final Portfolio Value   : 92834.60363769531\n",
      "\n",
      "=== Strategy Performance ===\n",
      "Return %         : -7.17%\n",
      "Total Trades     : 54\n",
      "Win Rate         : 48.15%\n",
      "Expectancy       : -132.69\n",
      "Avg Win          : 464.16\n",
      "Avg Loss         : 686.92\n",
      "\n",
      "=== Risk Metrics ===\n",
      "Sharpe Ratio: -1.8266731660194202\n",
      "Max Drawdown: 9.009595301281195\n"
     ]
    },
    {
     "name": "stderr",
     "output_type": "stream",
     "text": [
      "[*********************100%***********************]  1 of 1 completed\n"
     ]
    },
    {
     "name": "stdout",
     "output_type": "stream",
     "text": [
      "Data Count: 857\n",
      " \n",
      "*********  STARTING BACKTEST FOR META  *********\n",
      "\n",
      "=== Portfolio Value ===\n",
      "Starting Portfolio Value: 100000\n",
      "Final Portfolio Value   : 96625.87689208984\n",
      "\n",
      "=== Strategy Performance ===\n",
      "Return %         : -3.37%\n",
      "Total Trades     : 48\n",
      "Win Rate         : 41.67%\n",
      "Expectancy       : -70.29\n",
      "Avg Win          : 994.39\n",
      "Avg Loss         : 830.78\n",
      "\n",
      "=== Risk Metrics ===\n",
      "Sharpe Ratio: -2.282456513632456\n",
      "Max Drawdown: 7.778451572786158\n"
     ]
    },
    {
     "name": "stderr",
     "output_type": "stream",
     "text": [
      "[*********************100%***********************]  1 of 1 completed\n"
     ]
    },
    {
     "name": "stdout",
     "output_type": "stream",
     "text": [
      "Data Count: 857\n",
      " \n",
      "*********  STARTING BACKTEST FOR MSFT  *********\n",
      "\n",
      "=== Portfolio Value ===\n",
      "Starting Portfolio Value: 100000\n",
      "Final Portfolio Value   : 98211.3687133789\n",
      "\n",
      "=== Strategy Performance ===\n",
      "Return %         : -1.79%\n",
      "Total Trades     : 43\n",
      "Win Rate         : 46.51%\n",
      "Expectancy       : -41.60\n",
      "Avg Win          : 688.07\n",
      "Avg Loss         : 676.09\n",
      "\n",
      "=== Risk Metrics ===\n",
      "Sharpe Ratio: -1.0675268112805467\n",
      "Max Drawdown: 10.245215810006268\n"
     ]
    },
    {
     "name": "stderr",
     "output_type": "stream",
     "text": [
      "[*********************100%***********************]  1 of 1 completed\n"
     ]
    },
    {
     "name": "stdout",
     "output_type": "stream",
     "text": [
      "Data Count: 857\n",
      " \n",
      "*********  STARTING BACKTEST FOR NEE  *********\n",
      "\n",
      "=== Portfolio Value ===\n",
      "Starting Portfolio Value: 100000\n",
      "Final Portfolio Value   : 100822.09622192383\n",
      "\n",
      "=== Strategy Performance ===\n",
      "Return %         : 0.82%\n",
      "Total Trades     : 46\n",
      "Win Rate         : 45.65%\n",
      "Expectancy       : 17.87\n",
      "Avg Win          : 799.83\n",
      "Avg Loss         : 638.98\n",
      "\n",
      "=== Risk Metrics ===\n",
      "Sharpe Ratio: -3.077325256419814\n",
      "Max Drawdown: 7.543654296355772\n"
     ]
    },
    {
     "name": "stderr",
     "output_type": "stream",
     "text": [
      "[*********************100%***********************]  1 of 1 completed\n"
     ]
    },
    {
     "name": "stdout",
     "output_type": "stream",
     "text": [
      "Data Count: 857\n",
      " \n",
      "*********  STARTING BACKTEST FOR NFLX  *********\n",
      "\n",
      "=== Portfolio Value ===\n",
      "Starting Portfolio Value: 100000\n",
      "Final Portfolio Value   : 99838.90411376953\n",
      "\n",
      "=== Strategy Performance ===\n",
      "Return %         : -0.16%\n",
      "Total Trades     : 65\n",
      "Win Rate         : 44.62%\n",
      "Expectancy       : -2.48\n",
      "Avg Win          : 736.23\n",
      "Avg Loss         : 597.55\n",
      "\n",
      "=== Risk Metrics ===\n",
      "Sharpe Ratio: -1.00793666769954\n",
      "Max Drawdown: 5.683558438143561\n"
     ]
    },
    {
     "name": "stderr",
     "output_type": "stream",
     "text": [
      "[*********************100%***********************]  1 of 1 completed\n"
     ]
    },
    {
     "name": "stdout",
     "output_type": "stream",
     "text": [
      "Data Count: 857\n",
      " \n",
      "*********  STARTING BACKTEST FOR OXY  *********\n",
      "\n",
      "=== Portfolio Value ===\n",
      "Starting Portfolio Value: 100000\n",
      "Final Portfolio Value   : 97155.86157989502\n",
      "\n",
      "=== Strategy Performance ===\n",
      "Return %         : -2.84%\n",
      "Total Trades     : 60\n",
      "Win Rate         : 50.00%\n",
      "Expectancy       : -47.40\n",
      "Avg Win          : 670.89\n",
      "Avg Loss         : 765.69\n",
      "\n",
      "=== Risk Metrics ===\n",
      "Sharpe Ratio: -5.279086185766609\n",
      "Max Drawdown: 9.347545705103276\n"
     ]
    },
    {
     "name": "stderr",
     "output_type": "stream",
     "text": [
      "[*********************100%***********************]  1 of 1 completed\n"
     ]
    },
    {
     "name": "stdout",
     "output_type": "stream",
     "text": [
      "Data Count: 857\n",
      " \n",
      "*********  STARTING BACKTEST FOR PYPL  *********\n",
      "\n",
      "=== Portfolio Value ===\n",
      "Starting Portfolio Value: 100000\n",
      "Final Portfolio Value   : 96754.44054031372\n",
      "\n",
      "=== Strategy Performance ===\n",
      "Return %         : -3.25%\n",
      "Total Trades     : 58\n",
      "Win Rate         : 43.10%\n",
      "Expectancy       : -55.96\n",
      "Avg Win          : 731.06\n",
      "Avg Loss         : 652.19\n",
      "\n",
      "=== Risk Metrics ===\n",
      "Sharpe Ratio: -0.9304589384978977\n",
      "Max Drawdown: 6.227935305673342\n"
     ]
    },
    {
     "name": "stderr",
     "output_type": "stream",
     "text": [
      "[*********************100%***********************]  1 of 1 completed\n"
     ]
    },
    {
     "name": "stdout",
     "output_type": "stream",
     "text": [
      "Data Count: 857\n",
      " \n",
      "*********  STARTING BACKTEST FOR QQQ  *********\n",
      "\n",
      "=== Portfolio Value ===\n",
      "Starting Portfolio Value: 100000\n",
      "Final Portfolio Value   : 106384.12774658203\n",
      "\n",
      "=== Strategy Performance ===\n",
      "Return %         : 6.38%\n",
      "Total Trades     : 56\n",
      "Win Rate         : 53.57%\n",
      "Expectancy       : 114.00\n",
      "Avg Win          : 706.09\n",
      "Avg Loss         : 569.17\n",
      "\n",
      "=== Risk Metrics ===\n",
      "Sharpe Ratio: 3.5079521732064354\n",
      "Max Drawdown: 4.788827012513383\n"
     ]
    },
    {
     "name": "stderr",
     "output_type": "stream",
     "text": [
      "[*********************100%***********************]  1 of 1 completed\n"
     ]
    },
    {
     "name": "stdout",
     "output_type": "stream",
     "text": [
      "Data Count: 857\n",
      " \n",
      "*********  STARTING BACKTEST FOR SBUX  *********\n",
      "\n",
      "=== Portfolio Value ===\n",
      "Starting Portfolio Value: 100000\n",
      "Final Portfolio Value   : 108685.61898803711\n",
      "\n",
      "=== Strategy Performance ===\n",
      "Return %         : 8.69%\n",
      "Total Trades     : 59\n",
      "Win Rate         : 52.54%\n",
      "Expectancy       : 147.21\n",
      "Avg Win          : 986.43\n",
      "Avg Loss         : 781.92\n",
      "\n",
      "=== Risk Metrics ===\n",
      "Sharpe Ratio: 2.489595374328346\n",
      "Max Drawdown: 8.79262003103294\n"
     ]
    },
    {
     "name": "stderr",
     "output_type": "stream",
     "text": [
      "[*********************100%***********************]  1 of 1 completed\n"
     ]
    },
    {
     "name": "stdout",
     "output_type": "stream",
     "text": [
      "Data Count: 857\n",
      " \n",
      "*********  STARTING BACKTEST FOR SPG  *********\n",
      "\n",
      "=== Portfolio Value ===\n",
      "Starting Portfolio Value: 100000\n",
      "Final Portfolio Value   : 93719.86178588867\n",
      "\n",
      "=== Strategy Performance ===\n",
      "Return %         : -6.28%\n",
      "Total Trades     : 70\n",
      "Win Rate         : 42.86%\n",
      "Expectancy       : -89.72\n",
      "Avg Win          : 549.23\n",
      "Avg Loss         : 568.93\n",
      "\n",
      "=== Risk Metrics ===\n",
      "Sharpe Ratio: -1.04780023948611\n",
      "Max Drawdown: 8.330427669989545\n"
     ]
    },
    {
     "name": "stderr",
     "output_type": "stream",
     "text": [
      "[*********************100%***********************]  1 of 1 completed\n"
     ]
    },
    {
     "name": "stdout",
     "output_type": "stream",
     "text": [
      "Data Count: 857\n",
      " \n",
      "*********  STARTING BACKTEST FOR XLE  *********\n",
      "\n",
      "=== Portfolio Value ===\n",
      "Starting Portfolio Value: 100000\n",
      "Final Portfolio Value   : 101432.93856811523\n",
      "\n",
      "=== Strategy Performance ===\n",
      "Return %         : 1.43%\n",
      "Total Trades     : 52\n",
      "Win Rate         : 51.92%\n",
      "Expectancy       : 27.56\n",
      "Avg Win          : 633.90\n",
      "Avg Loss         : 627.30\n",
      "\n",
      "=== Risk Metrics ===\n",
      "Sharpe Ratio: -0.13441679200144044\n",
      "Max Drawdown: 5.757602106090901\n"
     ]
    },
    {
     "name": "stderr",
     "output_type": "stream",
     "text": [
      "[*********************100%***********************]  1 of 1 completed\n"
     ]
    },
    {
     "name": "stdout",
     "output_type": "stream",
     "text": [
      "Data Count: 857\n",
      " \n",
      "*********  STARTING BACKTEST FOR XLK  *********\n",
      "\n",
      "=== Portfolio Value ===\n",
      "Starting Portfolio Value: 100000\n",
      "Final Portfolio Value   : 98089.92306518555\n",
      "\n",
      "=== Strategy Performance ===\n",
      "Return %         : -1.91%\n",
      "Total Trades     : 63\n",
      "Win Rate         : 52.38%\n",
      "Expectancy       : -30.32\n",
      "Avg Win          : 639.73\n",
      "Avg Loss         : 767.37\n",
      "\n",
      "=== Risk Metrics ===\n",
      "Sharpe Ratio: -1.8795612343786758\n",
      "Max Drawdown: 10.255001135418043\n"
     ]
    },
    {
     "name": "stderr",
     "output_type": "stream",
     "text": [
      "[*********************100%***********************]  1 of 1 completed\n"
     ]
    },
    {
     "name": "stdout",
     "output_type": "stream",
     "text": [
      "Data Count: 857\n",
      " \n",
      "*********  STARTING BACKTEST FOR XOM  *********\n",
      "\n",
      "=== Portfolio Value ===\n",
      "Starting Portfolio Value: 100000\n",
      "Final Portfolio Value   : 98918.46938323975\n",
      "\n",
      "=== Strategy Performance ===\n",
      "Return %         : -1.08%\n",
      "Total Trades     : 60\n",
      "Win Rate         : 45.00%\n",
      "Expectancy       : -18.03\n",
      "Avg Win          : 555.45\n",
      "Avg Loss         : 487.23\n",
      "\n",
      "=== Risk Metrics ===\n",
      "Sharpe Ratio: -1.8278696290814354\n",
      "Max Drawdown: 5.455316642800193\n",
      "\n",
      "Low Volatility Stocks\n",
      "------------------------------\n"
     ]
    },
    {
     "name": "stderr",
     "output_type": "stream",
     "text": [
      "[*********************100%***********************]  1 of 1 completed\n"
     ]
    },
    {
     "name": "stdout",
     "output_type": "stream",
     "text": [
      "Data Count: 857\n",
      " \n",
      "*********  STARTING BACKTEST FOR DIA  *********\n",
      "\n",
      "=== Portfolio Value ===\n",
      "Starting Portfolio Value: 100000\n",
      "Final Portfolio Value   : 100422.16436767578\n",
      "\n",
      "=== Strategy Performance ===\n",
      "Return %         : 0.42%\n",
      "Total Trades     : 58\n",
      "Win Rate         : 43.10%\n",
      "Expectancy       : 11.04\n",
      "Avg Win          : 503.61\n",
      "Avg Loss         : 362.12\n",
      "\n",
      "=== Risk Metrics ===\n",
      "Sharpe Ratio: -1.1144746593859627\n",
      "Max Drawdown: 2.2026862496980133\n"
     ]
    },
    {
     "name": "stderr",
     "output_type": "stream",
     "text": [
      "[*********************100%***********************]  1 of 1 completed\n"
     ]
    },
    {
     "name": "stdout",
     "output_type": "stream",
     "text": [
      "Data Count: 857\n",
      " \n",
      "*********  STARTING BACKTEST FOR GLD  *********\n",
      "\n",
      "=== Portfolio Value ===\n",
      "Starting Portfolio Value: 100000\n",
      "Final Portfolio Value   : 103395.00350952148\n",
      "\n",
      "=== Strategy Performance ===\n",
      "Return %         : 3.40%\n",
      "Total Trades     : 60\n",
      "Win Rate         : 53.33%\n",
      "Expectancy       : 56.58\n",
      "Avg Win          : 426.40\n",
      "Avg Loss         : 366.06\n",
      "\n",
      "=== Risk Metrics ===\n",
      "Sharpe Ratio: 0.5256210932218639\n",
      "Max Drawdown: 5.411823430843901\n"
     ]
    },
    {
     "name": "stderr",
     "output_type": "stream",
     "text": [
      "[*********************100%***********************]  1 of 1 completed\n"
     ]
    },
    {
     "name": "stdout",
     "output_type": "stream",
     "text": [
      "Data Count: 857\n",
      " \n",
      "*********  STARTING BACKTEST FOR HD  *********\n",
      "\n",
      "=== Portfolio Value ===\n",
      "Starting Portfolio Value: 100000\n",
      "Final Portfolio Value   : 104773.87503051758\n",
      "\n",
      "=== Strategy Performance ===\n",
      "Return %         : 4.77%\n",
      "Total Trades     : 59\n",
      "Win Rate         : 45.76%\n",
      "Expectancy       : 80.91\n",
      "Avg Win          : 716.11\n",
      "Avg Loss         : 455.03\n",
      "\n",
      "=== Risk Metrics ===\n",
      "Sharpe Ratio: 0.3149653060341837\n",
      "Max Drawdown: 2.748796899556691\n"
     ]
    },
    {
     "name": "stderr",
     "output_type": "stream",
     "text": [
      "[*********************100%***********************]  1 of 1 completed\n"
     ]
    },
    {
     "name": "stdout",
     "output_type": "stream",
     "text": [
      "Data Count: 857\n",
      " \n",
      "*********  STARTING BACKTEST FOR JNJ  *********\n",
      "\n",
      "=== Portfolio Value ===\n",
      "Starting Portfolio Value: 100000\n",
      "Final Portfolio Value   : 102337.1371307373\n",
      "\n",
      "=== Strategy Performance ===\n",
      "Return %         : 2.34%\n",
      "Total Trades     : 56\n",
      "Win Rate         : 39.29%\n",
      "Expectancy       : 41.73\n",
      "Avg Win          : 633.10\n",
      "Avg Loss         : 340.91\n",
      "\n",
      "=== Risk Metrics ===\n",
      "Sharpe Ratio: 0.06150694458983965\n",
      "Max Drawdown: 2.9624040069580078\n"
     ]
    },
    {
     "name": "stderr",
     "output_type": "stream",
     "text": [
      "[*********************100%***********************]  1 of 1 completed\n"
     ]
    },
    {
     "name": "stdout",
     "output_type": "stream",
     "text": [
      "Data Count: 857\n",
      " \n",
      "*********  STARTING BACKTEST FOR KO  *********\n",
      "\n",
      "=== Portfolio Value ===\n",
      "Starting Portfolio Value: 100000\n",
      "Final Portfolio Value   : 104820.26667404175\n",
      "\n",
      "=== Strategy Performance ===\n",
      "Return %         : 4.82%\n",
      "Total Trades     : 56\n",
      "Win Rate         : 42.86%\n",
      "Expectancy       : 86.08\n",
      "Avg Win          : 662.64\n",
      "Avg Loss         : 346.35\n",
      "\n",
      "=== Risk Metrics ===\n",
      "Sharpe Ratio: 0.34987160398630174\n",
      "Max Drawdown: 2.907541038062698\n"
     ]
    },
    {
     "name": "stderr",
     "output_type": "stream",
     "text": [
      "[*********************100%***********************]  1 of 1 completed\n"
     ]
    },
    {
     "name": "stdout",
     "output_type": "stream",
     "text": [
      "Data Count: 857\n",
      " \n",
      "*********  STARTING BACKTEST FOR LIN  *********\n",
      "\n",
      "=== Portfolio Value ===\n",
      "Starting Portfolio Value: 100000\n",
      "Final Portfolio Value   : 100573.29763793945\n",
      "\n",
      "=== Strategy Performance ===\n",
      "Return %         : 0.57%\n",
      "Total Trades     : 67\n",
      "Win Rate         : 43.28%\n",
      "Expectancy       : 6.20\n",
      "Avg Win          : 410.17\n",
      "Avg Loss         : 302.10\n",
      "\n",
      "=== Risk Metrics ===\n",
      "Sharpe Ratio: -0.9167717862922379\n",
      "Max Drawdown: 5.221244184763906\n"
     ]
    },
    {
     "name": "stderr",
     "output_type": "stream",
     "text": [
      "[*********************100%***********************]  1 of 1 completed\n"
     ]
    },
    {
     "name": "stdout",
     "output_type": "stream",
     "text": [
      "Data Count: 857\n",
      " \n",
      "*********  STARTING BACKTEST FOR MA  *********\n",
      "\n",
      "=== Portfolio Value ===\n",
      "Starting Portfolio Value: 100000\n",
      "Final Portfolio Value   : 109450.77059936523\n",
      "\n",
      "=== Strategy Performance ===\n",
      "Return %         : 9.45%\n",
      "Total Trades     : 66\n",
      "Win Rate         : 53.03%\n",
      "Expectancy       : 139.95\n",
      "Avg Win          : 594.71\n",
      "Avg Loss         : 373.50\n",
      "\n",
      "=== Risk Metrics ===\n",
      "Sharpe Ratio: 0.6664477995937107\n",
      "Max Drawdown: 2.699683325800525\n"
     ]
    },
    {
     "name": "stderr",
     "output_type": "stream",
     "text": [
      "[*********************100%***********************]  1 of 1 completed\n"
     ]
    },
    {
     "name": "stdout",
     "output_type": "stream",
     "text": [
      "Data Count: 857\n",
      " \n",
      "*********  STARTING BACKTEST FOR MCD  *********\n",
      "\n",
      "=== Portfolio Value ===\n",
      "Starting Portfolio Value: 100000\n",
      "Final Portfolio Value   : 92837.70248413086\n",
      "\n",
      "=== Strategy Performance ===\n",
      "Return %         : -7.16%\n",
      "Total Trades     : 60\n",
      "Win Rate         : 33.33%\n",
      "Expectancy       : -113.52\n",
      "Avg Win          : 413.05\n",
      "Avg Loss         : 376.80\n",
      "\n",
      "=== Risk Metrics ===\n",
      "Sharpe Ratio: -3.742211627813862\n",
      "Max Drawdown: 7.392014495303715\n"
     ]
    },
    {
     "name": "stderr",
     "output_type": "stream",
     "text": [
      "[*********************100%***********************]  1 of 1 completed\n"
     ]
    },
    {
     "name": "stdout",
     "output_type": "stream",
     "text": [
      "Data Count: 857\n",
      " \n",
      "*********  STARTING BACKTEST FOR PEP  *********\n",
      "\n",
      "=== Portfolio Value ===\n",
      "Starting Portfolio Value: 100000\n",
      "Final Portfolio Value   : 97697.55409240723\n",
      "\n",
      "=== Strategy Performance ===\n",
      "Return %         : -2.30%\n",
      "Total Trades     : 45\n",
      "Win Rate         : 44.44%\n",
      "Expectancy       : -51.17\n",
      "Avg Win          : 447.29\n",
      "Avg Loss         : 449.93\n",
      "\n",
      "=== Risk Metrics ===\n",
      "Sharpe Ratio: -2.3447356990685178\n",
      "Max Drawdown: 4.405812377929688\n"
     ]
    },
    {
     "name": "stderr",
     "output_type": "stream",
     "text": [
      "[*********************100%***********************]  1 of 1 completed\n"
     ]
    },
    {
     "name": "stdout",
     "output_type": "stream",
     "text": [
      "Data Count: 857\n",
      " \n",
      "*********  STARTING BACKTEST FOR PFE  *********\n",
      "\n",
      "=== Portfolio Value ===\n",
      "Starting Portfolio Value: 100000\n",
      "Final Portfolio Value   : 97565.1309261322\n",
      "\n",
      "=== Strategy Performance ===\n",
      "Return %         : -2.43%\n",
      "Total Trades     : 55\n",
      "Win Rate         : 43.64%\n",
      "Expectancy       : -44.27\n",
      "Avg Win          : 548.48\n",
      "Avg Loss         : 503.17\n",
      "\n",
      "=== Risk Metrics ===\n",
      "Sharpe Ratio: -7.355453602696688\n",
      "Max Drawdown: 4.360464309431568\n"
     ]
    },
    {
     "name": "stderr",
     "output_type": "stream",
     "text": [
      "[*********************100%***********************]  1 of 1 completed\n"
     ]
    },
    {
     "name": "stdout",
     "output_type": "stream",
     "text": [
      "Data Count: 857\n",
      " \n",
      "*********  STARTING BACKTEST FOR PG  *********\n",
      "\n",
      "=== Portfolio Value ===\n",
      "Starting Portfolio Value: 100000\n",
      "Final Portfolio Value   : 104079.32363891602\n",
      "\n",
      "=== Strategy Performance ===\n",
      "Return %         : 4.08%\n",
      "Total Trades     : 59\n",
      "Win Rate         : 52.54%\n",
      "Expectancy       : 69.14\n",
      "Avg Win          : 454.53\n",
      "Avg Loss         : 357.54\n",
      "\n",
      "=== Risk Metrics ===\n",
      "Sharpe Ratio: 0.30598401275959336\n",
      "Max Drawdown: 3.147932727731826\n"
     ]
    },
    {
     "name": "stderr",
     "output_type": "stream",
     "text": [
      "[*********************100%***********************]  1 of 1 completed\n"
     ]
    },
    {
     "name": "stdout",
     "output_type": "stream",
     "text": [
      "Data Count: 857\n",
      " \n",
      "*********  STARTING BACKTEST FOR SPY  *********\n",
      "\n",
      "=== Portfolio Value ===\n",
      "Starting Portfolio Value: 100000\n",
      "Final Portfolio Value   : 106100.41491699219\n",
      "\n",
      "=== Strategy Performance ===\n",
      "Return %         : 6.10%\n",
      "Total Trades     : 56\n",
      "Win Rate         : 62.50%\n",
      "Expectancy       : 112.55\n",
      "Avg Win          : 432.47\n",
      "Avg Loss         : 420.66\n",
      "\n",
      "=== Risk Metrics ===\n",
      "Sharpe Ratio: 0.7607101546374526\n",
      "Max Drawdown: 2.5827175177141104\n"
     ]
    },
    {
     "name": "stderr",
     "output_type": "stream",
     "text": [
      "[*********************100%***********************]  1 of 1 completed\n"
     ]
    },
    {
     "name": "stdout",
     "output_type": "stream",
     "text": [
      "Data Count: 857\n",
      " \n",
      "*********  STARTING BACKTEST FOR V  *********\n",
      "\n",
      "=== Portfolio Value ===\n",
      "Starting Portfolio Value: 100000\n",
      "Final Portfolio Value   : 111059.30163574219\n",
      "\n",
      "=== Strategy Performance ===\n",
      "Return %         : 11.06%\n",
      "Total Trades     : 67\n",
      "Win Rate         : 49.25%\n",
      "Expectancy       : 165.06\n",
      "Avg Win          : 601.71\n",
      "Avg Loss         : 258.74\n",
      "\n",
      "=== Risk Metrics ===\n",
      "Sharpe Ratio: 0.7969489865942698\n",
      "Max Drawdown: 2.659483703787561\n"
     ]
    },
    {
     "name": "stderr",
     "output_type": "stream",
     "text": [
      "[*********************100%***********************]  1 of 1 completed\n"
     ]
    },
    {
     "name": "stdout",
     "output_type": "stream",
     "text": [
      "Data Count: 857\n",
      " \n",
      "*********  STARTING BACKTEST FOR VNQ  *********\n",
      "\n",
      "=== Portfolio Value ===\n",
      "Starting Portfolio Value: 100000\n",
      "Final Portfolio Value   : 97315.68659973145\n",
      "\n",
      "=== Strategy Performance ===\n",
      "Return %         : -2.68%\n",
      "Total Trades     : 62\n",
      "Win Rate         : 48.39%\n",
      "Expectancy       : -41.96\n",
      "Avg Win          : 431.31\n",
      "Avg Loss         : 485.65\n",
      "\n",
      "=== Risk Metrics ===\n",
      "Sharpe Ratio: -3.6357595626050703\n",
      "Max Drawdown: 4.744641349792481\n"
     ]
    },
    {
     "name": "stderr",
     "output_type": "stream",
     "text": [
      "[*********************100%***********************]  1 of 1 completed\n"
     ]
    },
    {
     "name": "stdout",
     "output_type": "stream",
     "text": [
      "Data Count: 857\n",
      " \n",
      "*********  STARTING BACKTEST FOR VOO  *********\n",
      "\n",
      "=== Portfolio Value ===\n",
      "Starting Portfolio Value: 100000\n",
      "Final Portfolio Value   : 105883.74719238281\n",
      "\n",
      "=== Strategy Performance ===\n",
      "Return %         : 5.88%\n",
      "Total Trades     : 58\n",
      "Win Rate         : 60.34%\n",
      "Expectancy       : 105.56\n",
      "Avg Win          : 433.30\n",
      "Avg Loss         : 393.17\n",
      "\n",
      "=== Risk Metrics ===\n",
      "Sharpe Ratio: 0.8671698432579225\n",
      "Max Drawdown: 2.5357935601478703\n"
     ]
    },
    {
     "name": "stderr",
     "output_type": "stream",
     "text": [
      "[*********************100%***********************]  1 of 1 completed\n"
     ]
    },
    {
     "name": "stdout",
     "output_type": "stream",
     "text": [
      "Data Count: 857\n",
      " \n",
      "*********  STARTING BACKTEST FOR WMT  *********\n",
      "\n",
      "=== Portfolio Value ===\n",
      "Starting Portfolio Value: 100000\n",
      "Final Portfolio Value   : 108816.18925476074\n",
      "\n",
      "=== Strategy Performance ===\n",
      "Return %         : 8.82%\n",
      "Total Trades     : 68\n",
      "Win Rate         : 54.41%\n",
      "Expectancy       : 132.58\n",
      "Avg Win          : 562.58\n",
      "Avg Loss         : 380.66\n",
      "\n",
      "=== Risk Metrics ===\n",
      "Sharpe Ratio: 0.6233603430063454\n",
      "Max Drawdown: 2.604266252446672\n"
     ]
    },
    {
     "name": "stderr",
     "output_type": "stream",
     "text": [
      "[*********************100%***********************]  1 of 1 completed\n"
     ]
    },
    {
     "name": "stdout",
     "output_type": "stream",
     "text": [
      "Data Count: 857\n",
      " \n",
      "*********  STARTING BACKTEST FOR XLF  *********\n",
      "\n",
      "=== Portfolio Value ===\n",
      "Starting Portfolio Value: 100000\n",
      "Final Portfolio Value   : 106532.36798858643\n",
      "\n",
      "=== Strategy Performance ===\n",
      "Return %         : 6.53%\n",
      "Total Trades     : 54\n",
      "Win Rate         : 51.85%\n",
      "Expectancy       : 125.02\n",
      "Avg Win          : 579.11\n",
      "Avg Loss         : 364.01\n",
      "\n",
      "=== Risk Metrics ===\n",
      "Sharpe Ratio: 0.45558648026595483\n",
      "Max Drawdown: 2.5522841415405275\n",
      "\n",
      "📊 Backtest Summary:\n",
      "   Symbol   Return %  Total Trades   Win Rate   Expectancy      Avg Win  \\\n",
      "2    HOOD  30.589613            19  73.684211  1609.979638  2611.042581   \n",
      "7    RKLB  45.602103            42  47.619048  1085.764351  4873.383113   \n",
      "8    SOFI  17.568147            26  57.692308   675.697971  2414.340853   \n",
      "6    PLTR  13.707605            37  56.756757   370.475818  2473.159435   \n",
      "11   AAPL  17.367973            49  61.224490   347.765814   918.874206   \n",
      "23    JPM  13.728005            60  61.666667   228.800075   770.529288   \n",
      "50      V  11.059302            67  49.253731   165.064204   601.705884   \n",
      "15    BLK   8.398492            57  52.631579   147.341974   801.400287   \n",
      "33   SBUX   8.685619            59  52.542373   147.213881   986.431130   \n",
      "44     MA   9.450771            66  53.030303   139.948599   594.713159   \n",
      "53    WMT   8.816189            68  54.411765   132.575203   562.580089   \n",
      "19     GE   6.717285            55  52.727273   127.338576   790.713241   \n",
      "54    XLF   6.532368            54  51.851852   125.017252   579.109898   \n",
      "32    QQQ   6.384128            56  53.571429   114.002281   706.087501   \n",
      "49    SPY   6.100415            56  62.500000   112.548488   432.472494   \n",
      "52    VOO   5.883747            58  60.344828   105.558502   433.297028   \n",
      "42     KO   4.820267            56  42.857143    86.076191   662.641924   \n",
      "40     HD   4.773875            59  45.762712    80.913136   716.110359   \n",
      "48     PG   4.079324            59  52.542373    69.141079   454.531219   \n",
      "39    GLD   3.395004            60  53.333333    56.583392   426.395933   \n",
      "18    DIS   3.350954            64  51.562500    52.358652   709.696812   \n",
      "41    JNJ   2.337137            56  39.285714    41.734592   633.096739   \n",
      "14    BAC   2.108533            67  46.268657    31.470638   643.344532   \n",
      "35    XLE   1.432939            52  51.923077    27.556511   633.902904   \n",
      "21     GS   1.596777            58  48.275862    27.530632   965.099293   \n",
      "9    TSLA   1.206699            49  42.857143    24.626512  2557.223835   \n",
      "28    NEE   0.822096            46  45.652174    17.871657   799.833351   \n",
      "22    IWM   0.671159            54  53.703704    12.428864   666.295535   \n",
      "38    DIA   0.422164            58  43.103448    11.041632   503.609338   \n",
      "20  GOOGL   0.522357            53  52.830189     9.855788   741.468447   \n",
      "43    LIN   0.573298            67  43.283582     6.196998   410.169973   \n",
      "29   NFLX  -0.161096            65  44.615385    -2.478398   736.226569   \n",
      "10    UNH  -1.775203            50  46.000000   -16.346020   709.859736   \n",
      "37    XOM  -1.081531            60  45.000000   -18.025510   555.451875   \n",
      "36    XLK  -1.910077            63  52.380952   -30.318682   639.725964   \n",
      "16    CAT  -2.256974            55  43.636364   -41.035899   872.451544   \n",
      "27   MSFT  -1.788631            43  46.511628   -41.596076   688.074591   \n",
      "51    VNQ  -2.684313            62  48.387097   -41.961281   431.311123   \n",
      "47    PFE  -2.434869            55  43.636364   -44.270347   548.480421   \n",
      "30    OXY  -2.844138            60  50.000000   -47.402307   670.885201   \n",
      "46    PEP  -2.302446            45  44.444444   -51.165465   447.287479   \n",
      "31   PYPL  -3.245559            58  43.103448   -55.957922   731.063764   \n",
      "17    CVX  -3.925299            57  49.122807   -64.652250   409.673099   \n",
      "0      BA  -3.432764            52  48.076923   -66.014691  1234.195216   \n",
      "26   META  -3.374123            48  41.666667   -70.294231   994.390503   \n",
      "12   ABBV  -1.217070            17  35.294118   -71.592357   390.481425   \n",
      "1     FCX  -3.675427            51  43.137255   -72.067196  1593.614371   \n",
      "4     NKE  -5.068571            57  40.350877   -88.922290  1113.922928   \n",
      "34    SPG  -6.280138            70  42.857143   -89.716260   549.231363   \n",
      "3    LUNR  -3.874502            39  38.461538   -99.346212  3848.102537   \n",
      "45    MCD  -7.162298            60  33.333333  -113.517459   413.045061   \n",
      "24    LLY  -7.237661            57  45.614035  -126.976503   734.632524   \n",
      "25    LMT  -7.165396            54  48.148148  -132.692525   464.163702   \n",
      "13   AMZN  -7.420706            55  40.000000  -134.921935  1219.776579   \n",
      "5    NVDA  -7.515124            27  29.629630  -278.337912  1652.957468   \n",
      "\n",
      "       Avg Loss  sharpe ratio   drawdown  Volatility   Group  \n",
      "2   1192.996601      1.061068   5.512832    0.020810    High  \n",
      "7   2357.525433      1.950360  14.208287    0.023894    High  \n",
      "8   1695.178686      0.968006   6.431629    0.016708    High  \n",
      "6   2389.296429      4.252749  15.673193    0.020696    High  \n",
      "11   553.984278      1.008560   2.719428    0.008627  Medium  \n",
      "23   642.677354      1.099258   3.246421    0.007410  Medium  \n",
      "50   258.735074      0.796949   2.659484    0.005604     Low  \n",
      "15   579.389486      1.026329   4.049120    0.007813  Medium  \n",
      "33   781.919501      2.489595   8.792620    0.009052  Medium  \n",
      "44   373.495260      0.666448   2.699683    0.005802     Low  \n",
      "53   380.656435      0.623360   2.604266    0.006256     Low  \n",
      "19   612.579319      0.849694   3.291718    0.008089  Medium  \n",
      "54   364.005597      0.455586   2.552284    0.005880     Low  \n",
      "32   569.172972      3.507952   4.788827    0.006750  Medium  \n",
      "49   420.658189      0.760710   2.582718    0.005581     Low  \n",
      "52   393.174038      0.867170   2.535794    0.005590     Low  \n",
      "42   346.348110      0.349872   2.907541    0.004685     Low  \n",
      "40   455.034521      0.314965   2.748797    0.006456     Low  \n",
      "48   357.540862      0.305984   3.147933    0.005026     Low  \n",
      "39   366.059512      0.525621   5.411823    0.004514     Low  \n",
      "18   647.388421      0.580999   8.112835    0.008138  Medium  \n",
      "41   340.911504      0.061507   2.962404    0.005139     Low  \n",
      "14   495.420771      0.061910   4.830605    0.008501  Medium  \n",
      "35   627.297593     -0.134417   5.757602    0.007179  Medium  \n",
      "21   847.533452     -0.181439   5.377365    0.009509  Medium  \n",
      "9   1874.821480     -0.002914  18.106416    0.017115    High  \n",
      "28   638.976166     -3.077325   7.543654    0.007565  Medium  \n",
      "22   746.056475     -0.650250   6.295899    0.006907  Medium  \n",
      "38   362.115722     -1.114475   2.202686    0.004970     Low  \n",
      "20   809.550391     -0.950208   8.218175    0.008793  Medium  \n",
      "43   302.098167     -0.916772   5.221244    0.004898     Low  \n",
      "29   597.546288     -1.007937   5.683558    0.009415  Medium  \n",
      "10   634.965738     -1.679747   5.896739    0.013553    High  \n",
      "37   487.234280     -1.827870   5.455317    0.006525  Medium  \n",
      "36   767.367791     -1.879561  10.255001    0.007699  Medium  \n",
      "16   748.251985     -1.013452   6.244313    0.008192  Medium  \n",
      "27   676.092309     -1.067527  10.245216    0.007289  Medium  \n",
      "51   485.654159     -3.635760   4.744641    0.005089     Low  \n",
      "47   503.174167     -7.355454   4.360464    0.006318     Low  \n",
      "30   765.689815     -5.279086   9.347546    0.010131  Medium  \n",
      "46   449.927819     -2.344736   4.405812    0.005442     Low  \n",
      "31   652.186471     -0.930459   6.227935    0.009199  Medium  \n",
      "17   522.621552     -6.714346   5.577080    0.006895  Medium  \n",
      "0   1269.912753     -0.468793  18.564702    0.010929    High  \n",
      "26   830.783327     -2.282457   7.778452    0.010349  Medium  \n",
      "12   323.632602     -1.947897   1.922898    0.007076  Medium  \n",
      "1   1335.687695     -1.091919  11.052564    0.012186    High  \n",
      "4    902.611701     -0.655232  11.956254    0.010841    High  \n",
      "34   568.926978     -1.047800   8.330428    0.008203  Medium  \n",
      "3   2566.501680     -1.031669  16.033183    0.031009    High  \n",
      "45   376.798718     -3.742212   7.392014    0.005227     Low  \n",
      "24   849.616331     -0.942429  13.960237    0.009904  Medium  \n",
      "25   686.916165     -1.826673   9.009595    0.007040  Medium  \n",
      "13  1038.054278     -1.303672  11.551676    0.009616  Medium  \n",
      "5   1091.514914     -5.363677   8.456641    0.013943    High  \n"
     ]
    },
    {
     "data": {
      "image/png": "[encoded data removed]",
      "text/plain": [
       "<Figure size 1200x800 with 1 Axes>"
      ]
     },
     "metadata": {},
     "output_type": "display_data"
    },
    {
     "name": "stdout",
     "output_type": "stream",
     "text": [
      "\n",
      "✅ Strategy Quality Summary:\n",
      "🟢 31 backtests had positive total return out of 55\n",
      "🟢 31 backtests had positive expectancy out of 55\n",
      "🟢 8 backtests had Sharpe Ratio > 1.0 out of 55\n",
      "🟢 Average Return: 2.89%\n",
      "🟢 Max Total Return: 45.6%\n",
      "🔴 Min Total Return: -7.52%\n",
      "🔴 Max Drawdown: 18.56%\n",
      "🔴 Average Drawdown: 6.87%\n"
     ]
    }
   ],
   "source": [
    "results_all = []\n",
    "\n",
    "def print_volatility_groups(high_vol, medium_vol, low_vol):\n",
    "    print(f\"\\n🔴 High Volatility ({len(high_vol)} stocks): {list(high_vol.keys())}\")\n",
    "    print(f\"🟠 Medium Volatility ({len(medium_vol)} stocks): {list(medium_vol.keys())}\")\n",
    "    print(f\"🟢 Low Volatility ({len(low_vol)} stocks): {list(low_vol.keys())}\")\n",
    "\n",
    "def process_group(vol_group, group_name, strategy_params):\n",
    "    group_results = []\n",
    "    print(f\"\\n{group_name} Volatility Stocks\\n\" + \"-\"*30)\n",
    "    for symbol, vol in vol_group.items():\n",
    "        result = run_backtest(symbol, strategy_params=strategy_params, plot=False)\n",
    "        if result is not None:\n",
    "            result['Volatility'] = vol\n",
    "            result['Group'] = group_name\n",
    "            group_results.append(pd.DataFrame([result]))\n",
    "        else:\n",
    "            print(f'\\n❌ No results for: {symbol}\\n')\n",
    "    return group_results\n",
    "\n",
    "def run_full_backtest(high_vol, medium_vol, low_vol, params_high_vol, params_medium_vol, params_low_vol):\n",
    "    print_volatility_groups(high_vol, medium_vol, low_vol)\n",
    "    \n",
    "    all_results = []\n",
    "    all_results += process_group(high_vol, 'High', params_high_vol)\n",
    "    all_results += process_group(medium_vol, 'Medium', params_medium_vol)\n",
    "    all_results += process_group(low_vol, 'Low', params_low_vol)\n",
    "    \n",
    "    return pd.concat(all_results, ignore_index=True)\n",
    "\n",
    "def summarize_results(df):\n",
    "    total = len(df)\n",
    "    pos_return = df[df['Return %'] > 0]\n",
    "    pos_expect = df[df['Expectancy'] > 0]\n",
    "    sharpe_gt_1 = df[df['sharpe ratio'] > 1]\n",
    "    avg_return = round(df['Return %'].mean(), 2)\n",
    "    max_return = round(df['Return %'].max(), 2)\n",
    "    min_return = round(df['Return %'].min(), 2)\n",
    "    max_dd = round(df['drawdown'].max(), 2)\n",
    "    avg_dd = round(df['drawdown'].mean(), 2)\n",
    "    \n",
    "    print(\"\\n✅ Final Quality & Performance Summary:\")\n",
    "    print(f\"🟢 {len(pos_return)} backtests had positive total return out of {total}\")\n",
    "    print(f\"🟢 {len(pos_expect)} backtests had positive expectancy out of {total}\")\n",
    "    print(f\"🟢 {len(sharpe_gt_1)} backtests had Sharpe Ratio > 1.0 out of {total}\")\n",
    "    print(f\"🟢 Average Return: {avg_return}%\")\n",
    "    print(f\"🟢 Max Total Return: {max_return}%\")\n",
    "    print(f\"🔴 Min Total Return: {min_return}%\")\n",
    "    print(f\"🔴 Max Drawdown: {max_dd}%\")\n",
    "    print(f\"🔴 Average Drawdown: {avg_dd}%\")\n",
    "\n",
    "def plot_expectancy(df):\n",
    "    sns.set(style='whitegrid')\n",
    "    plt.figure(figsize=(12, 8))\n",
    "    sns.barplot(data=df, x='Expectancy', y='Symbol', hue='Group')\n",
    "    plt.title(\"Expectancy by Symbol and Volatility Group\")\n",
    "    plt.xlabel(\"Expectancy ($)\")\n",
    "    plt.ylabel(\"Symbol\")\n",
    "    plt.axvline(0, color='grey', linestyle='--', linewidth=0.8)\n",
    "    plt.tight_layout()\n",
    "    plt.show()\n",
    "\n",
    "# --- Run Backtests ---\n",
    "df_results = run_full_backtest(high_vol, medium_vol, low_vol, params_high_vol, params_medium_vol, params_low_vol)\n",
    "\n",
    "# --- Show Summary and Visuals ---\n",
    "print(\"\\n📊 Backtest Summary:\")\n",
    "print(df_results.sort_values(by='Expectancy', ascending=False))\n",
    "\n",
    "plot_expectancy(df_results)\n",
    "summarize_results(df_results)\n"
   ]
  },
  {
   "cell_type": "markdown",
   "id": "66a940d2",
   "metadata": {},
   "source": [
    "## 📁 Save Results to CSV\n",
    "\n",
    "Finally, we export the combined backtest results to a CSV file for future reference and external analysis. This ensures that the outputs can be revisited, shared, or used in further reporting.\n",
    "\n"
   ]
  },
  {
   "cell_type": "code",
   "execution_count": 85,
   "id": "d94025a9",
   "metadata": {},
   "outputs": [
    {
     "name": "stdout",
     "output_type": "stream",
     "text": [
      "📁 Results saved to 'backtest_results_volatility_groups.csv'\n"
     ]
    }
   ],
   "source": [
    "#Step 1: Save Results to CSV\n",
    "df_results.to_csv(\"backtest_results_volatility_groups.csv\", index=False)\n",
    "print(\"📁 Results saved to 'backtest_results_volatility_groups.csv'\")\n"
   ]
  },
  {
   "cell_type": "markdown",
   "id": "28f6ded3",
   "metadata": {},
   "source": [
    "## 🧾 **Can We Make Money with This Strategy?**\n",
    "\n",
    "We've developed and evaluated a **trend-following trading strategy**, using a robust backtesting pipeline to quickly assess its performance across diverse stocks and varying market conditions. Our goal was to see if this strategy holds potential for profitability.\n",
    "\n",
    "The strategy was first tested over a **6-month period** using **1-hour candles** across **55 different stocks**. This initial batch of backtests provided encouraging insights: over **55% of the analyzed stocks delivered positive returns**, with a standout high return of **45.6%**. The minimum return observed was a contained **-7.5%**, leading to an **average total return of 2.9%** across all backtests. While the maximum drawdown reached **19%**, the **mean drawdown was a well-contained 6.9%** over the analyzed period. These results offer **promising evidence of the strategy's potential viability**.\n",
    "\n",
    "---\n",
    "\n",
    "### ✅ Strategy Quality Summary (6-Month Period):\n",
    "\n",
    "* **Positive Performance:**\n",
    "    * **31 out of 55** backtests (56.4%) delivered a **positive total return**.\n",
    "    * **31 out of 55** backtests (56.4%) showed a **positive expectancy**.\n",
    "    * **8 out of 55** backtests (14.5%) achieved a **Sharpe Ratio greater than 1.0**, indicating strong risk-adjusted returns.\n",
    "\n",
    "* **Return Metrics:**\n",
    "    * The **average total return** across all 55 backtests was **2.9%**.\n",
    "    * The **maximum total return** achieved in any single backtest was an impressive **45.6%**.\n",
    "    * The **minimum total return** observed was **-7.52%**.\n",
    "\n",
    "* **Risk Metrics:**\n",
    "    * The **maximum drawdown** encountered was **18.56%**.\n",
    "    * The **average drawdown** across all backtests was **6.86%**.\n",
    "\n",
    "---\n",
    "\n",
    "We found similar results when the strategy was extended and tested over a **1-year period** using **4-hour candles** (a second batch of 55 backtests) with more than 60% of them producing positive returns but with more volatility and larger downside risk, which is consistent for the larger period of time and the larger return achieved. This suggests the strategy is hitting stability over time and across risk-return scenarios. While these specific findings aren't detailed here due to space, they are easily reproducible by simply adjusting the `yfinance` data feeder parameters. Here's a summary of the quality results for this second batch of backtests:\n",
    "\n",
    "---\n",
    "\n",
    "### ✅ Strategy Quality Summary (1-Year Period):\n",
    "\n",
    "* **Positive Performance:**\n",
    "    * **34 out of 55** backtests (61.8%) delivered a **positive total return**.\n",
    "    * **34 out of 55** backtests (61.8%) showed a **positive expectancy**.\n",
    "    * **13 out of 55** backtests (23.6%) achieved a **Sharpe Ratio greater than 1.0**, indicating strong risk-adjusted returns.\n",
    "\n",
    "* **Return Metrics:**\n",
    "    * The **average total return** across all 55 backtests was **5.15%**.\n",
    "    * The **maximum total return** achieved in any single backtest was an impressive **90.43%**.\n",
    "    * The **minimum total return** observed was **-13.34%**.\n",
    "\n",
    "* **Risk Metrics:**\n",
    "    * The **maximum drawdown** encountered was **36.12%**.\n",
    "    * The **average drawdown** across all backtests was **9.3%**.\n",
    "\n",
    "---\n",
    "\n",
    "## But—**is this strategy ready for live trading? Absolutely not.**\n",
    "\n",
    "What we have is a solid **initial prototype** that clearly demonstrates the strategy's feasibility. Before it can be considered for production, significant refinement is still needed. This includes:\n",
    "\n",
    "* **Robust statistical filtering:** Implementing more rigorous tests to ensure the observed performance isn't just due to random chance.\n",
    "* **Parameter tuning and walk-forward validation:** Optimizing the strategy's settings and rigorously validating them on unseen data to prevent overfitting.\n",
    "* Potential integration of **machine learning or deep learning** techniques to further optimize signal generation and filtering.\n",
    "* **Code cleanup and modularization:** Making the code more organized and easier to maintain for correct engineering before production.\n",
    "\n",
    "Nevertheless, these results represent a strong **first step**. With further development, this strategy framework could evolve into a powerful, systematic trading tool.\n",
    "```"
   ]
  },
  {
   "cell_type": "markdown",
   "id": "2ebfab55",
   "metadata": {},
   "source": []
  }
 ],
 "metadata": {
  "kernelspec": {
   "display_name": "tf_env",
   "language": "python",
   "name": "python3"
  },
  "language_info": {
   "codemirror_mode": {
    "name": "ipython",
    "version": 3
   },
   "file_extension": ".py",
   "mimetype": "text/x-python",
   "name": "python",
   "nbconvert_exporter": "python",
   "pygments_lexer": "ipython3",
   "version": "3.10.11"
  }
 },
 "nbformat": 4,
 "nbformat_minor": 5
}
